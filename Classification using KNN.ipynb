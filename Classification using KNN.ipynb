{
 "cells": [
  {
   "cell_type": "markdown",
   "metadata": {},
   "source": [
    "# <center> Classification using K Nearest Neighbor </center>\n",
    "\n",
    "___\n",
    "\n",
    "Knn is a LAZY LEARNER which means there is no in the training phase. During the test phase, distances are calculated for each test query w.r.t. all train data points. Out of these, N data points are picked to give a local approximation of target.\n",
    "\n",
    "While Knn can be used for both `Classification` and `Regression` for any kind of data, it tends to be \n",
    "- slower, \n",
    "- requires high computational power and \n",
    "- gives lower accuracy, as compared to other powerful algorithms.\n",
    "\n",
    "This kind of model is particularly useful when eager learning models are not suitable or there is no surety that training and testing data belongs to same distribution.\n",
    "\n",
    "Some application areas where Knn is well-suited are :\n",
    "\n",
    "- Semantic Search\n",
    "- Recommendation Systems\n",
    "- Face Detection or Fingerprint Detection\n",
    "\n",
    "___\n",
    "\n",
    "\n",
    "## Personal Loan Dataset\n",
    "\n",
    "We will use [Personal Loan Dataset](https://www.kaggle.com/itsmesunil/bank-loan-modelling). This case is about a bank (Thera Bank) which has a growing customer base. The department wants to build a model that will help them identify the potential customers who have a higher probability of purchasing the loan. This will increase the success ratio while at the same time reduce the cost of the campaign.\n",
    "\n",
    "| Feature | Description |\n",
    "| --- | --- |\n",
    "| ID | Customer ID |\n",
    "| Age | Customer's age in completed year |\n",
    "| Experience | # years of professional experience |\n",
    "| Income | Annual income of the customer (1,000) |\n",
    "| ZIPcode | Home address ZIP code |\n",
    "| Family | Family size of the customer |\n",
    "| CCAvg | Average monthly credit card spending (1, 000) |\n",
    "| Education | Education level: 1: undergrad; 2, Graduate; 3; Advance/Professional |\n",
    "| Mortgage | Value of house mortgage if any (1, 000) |\n",
    "| Securities Acct | Does the customer have a securities account with the bank? |\n",
    "| CD Account | Does the customer have a certifcate of deposit (CD) account with the bank? |\n",
    "| Online | Does the customer use internet bank facilities? |\n",
    "| CreditCard | Does the customer use a credit card issued by the Bank? |\n",
    "| Personal loan | Did this customer accept the personal loan offered in he last campaign? 1, yes; 0, no (target variable) | \n",
    "\n",
    "#### The classification goal is to predict if the client will subscribe (yes/no) a term deposit (variable y).\n",
    "\n",
    "___"
   ]
  },
  {
   "cell_type": "markdown",
   "metadata": {},
   "source": [
    "## Load the libraries"
   ]
  },
  {
   "cell_type": "code",
   "execution_count": 1,
   "metadata": {
    "ExecuteTime": {
     "end_time": "2019-10-20T11:25:40.303672Z",
     "start_time": "2019-10-20T11:25:39.304470Z"
    }
   },
   "outputs": [],
   "source": [
    "import pandas as pd\n",
    "\n",
    "import warnings\n",
    "warnings.filterwarnings('ignore')"
   ]
  },
  {
   "cell_type": "markdown",
   "metadata": {},
   "source": [
    "## Load Data"
   ]
  },
  {
   "cell_type": "code",
   "execution_count": 2,
   "metadata": {
    "ExecuteTime": {
     "end_time": "2019-10-20T11:25:40.345890Z",
     "start_time": "2019-10-20T11:25:40.306307Z"
    }
   },
   "outputs": [
    {
     "data": {
      "text/plain": [
       "(5000, 14)"
      ]
     },
     "execution_count": 2,
     "metadata": {},
     "output_type": "execute_result"
    }
   ],
   "source": [
    "bank = pd.read_csv(\"UnivBank.csv\")\n",
    "\n",
    "bank.shape"
   ]
  },
  {
   "cell_type": "markdown",
   "metadata": {},
   "source": [
    "There are a total of 5,000 customers in the data set and 14 variables. "
   ]
  },
  {
   "cell_type": "markdown",
   "metadata": {},
   "source": [
    "## Exploratory Data Analysis\n",
    "\n",
    "Let us take a look at a portion of the data."
   ]
  },
  {
   "cell_type": "code",
   "execution_count": 3,
   "metadata": {
    "ExecuteTime": {
     "end_time": "2019-10-20T11:25:40.371613Z",
     "start_time": "2019-10-20T11:25:40.348469Z"
    },
    "scrolled": true
   },
   "outputs": [
    {
     "data": {
      "text/html": [
       "<div>\n",
       "<style scoped>\n",
       "    .dataframe tbody tr th:only-of-type {\n",
       "        vertical-align: middle;\n",
       "    }\n",
       "\n",
       "    .dataframe tbody tr th {\n",
       "        vertical-align: top;\n",
       "    }\n",
       "\n",
       "    .dataframe thead th {\n",
       "        text-align: right;\n",
       "    }\n",
       "</style>\n",
       "<table border=\"1\" class=\"dataframe\">\n",
       "  <thead>\n",
       "    <tr style=\"text-align: right;\">\n",
       "      <th></th>\n",
       "      <th>ID</th>\n",
       "      <th>Age</th>\n",
       "      <th>Experience</th>\n",
       "      <th>Income</th>\n",
       "      <th>ZIP Code</th>\n",
       "      <th>Family</th>\n",
       "      <th>CCAvg</th>\n",
       "      <th>Education</th>\n",
       "      <th>Mortgage</th>\n",
       "      <th>Personal Loan</th>\n",
       "      <th>Securities Account</th>\n",
       "      <th>CD Account</th>\n",
       "      <th>Online</th>\n",
       "      <th>CreditCard</th>\n",
       "    </tr>\n",
       "  </thead>\n",
       "  <tbody>\n",
       "    <tr>\n",
       "      <th>0</th>\n",
       "      <td>1</td>\n",
       "      <td>25</td>\n",
       "      <td>1</td>\n",
       "      <td>49</td>\n",
       "      <td>91107</td>\n",
       "      <td>4</td>\n",
       "      <td>1.6</td>\n",
       "      <td>1</td>\n",
       "      <td>0</td>\n",
       "      <td>0</td>\n",
       "      <td>1.0</td>\n",
       "      <td>0</td>\n",
       "      <td>0</td>\n",
       "      <td>0</td>\n",
       "    </tr>\n",
       "    <tr>\n",
       "      <th>1</th>\n",
       "      <td>2</td>\n",
       "      <td>45</td>\n",
       "      <td>19</td>\n",
       "      <td>34</td>\n",
       "      <td>90089</td>\n",
       "      <td>3</td>\n",
       "      <td>1.5</td>\n",
       "      <td>1</td>\n",
       "      <td>0</td>\n",
       "      <td>0</td>\n",
       "      <td>1.0</td>\n",
       "      <td>0</td>\n",
       "      <td>0</td>\n",
       "      <td>0</td>\n",
       "    </tr>\n",
       "    <tr>\n",
       "      <th>2</th>\n",
       "      <td>3</td>\n",
       "      <td>39</td>\n",
       "      <td>15</td>\n",
       "      <td>11</td>\n",
       "      <td>94720</td>\n",
       "      <td>1</td>\n",
       "      <td>1.0</td>\n",
       "      <td>1</td>\n",
       "      <td>0</td>\n",
       "      <td>0</td>\n",
       "      <td>0.0</td>\n",
       "      <td>0</td>\n",
       "      <td>0</td>\n",
       "      <td>0</td>\n",
       "    </tr>\n",
       "    <tr>\n",
       "      <th>3</th>\n",
       "      <td>4</td>\n",
       "      <td>35</td>\n",
       "      <td>9</td>\n",
       "      <td>100</td>\n",
       "      <td>94112</td>\n",
       "      <td>1</td>\n",
       "      <td>2.7</td>\n",
       "      <td>2</td>\n",
       "      <td>0</td>\n",
       "      <td>0</td>\n",
       "      <td>0.0</td>\n",
       "      <td>#</td>\n",
       "      <td>0</td>\n",
       "      <td>0</td>\n",
       "    </tr>\n",
       "    <tr>\n",
       "      <th>4</th>\n",
       "      <td>5</td>\n",
       "      <td>35</td>\n",
       "      <td>8</td>\n",
       "      <td>45</td>\n",
       "      <td>91330</td>\n",
       "      <td>4</td>\n",
       "      <td>1.0</td>\n",
       "      <td>2</td>\n",
       "      <td>0</td>\n",
       "      <td>0</td>\n",
       "      <td>0.0</td>\n",
       "      <td>0</td>\n",
       "      <td>0</td>\n",
       "      <td>1</td>\n",
       "    </tr>\n",
       "  </tbody>\n",
       "</table>\n",
       "</div>"
      ],
      "text/plain": [
       "   ID  Age  Experience  Income  ZIP Code  Family  CCAvg  Education Mortgage  \\\n",
       "0   1   25           1      49     91107       4    1.6          1        0   \n",
       "1   2   45          19      34     90089       3    1.5          1        0   \n",
       "2   3   39          15      11     94720       1    1.0          1        0   \n",
       "3   4   35           9     100     94112       1    2.7          2        0   \n",
       "4   5   35           8      45     91330       4    1.0          2        0   \n",
       "\n",
       "   Personal Loan  Securities Account CD Account  Online  CreditCard  \n",
       "0              0                 1.0          0       0           0  \n",
       "1              0                 1.0          0       0           0  \n",
       "2              0                 0.0          0       0           0  \n",
       "3              0                 0.0          #       0           0  \n",
       "4              0                 0.0          0       0           1  "
      ]
     },
     "execution_count": 3,
     "metadata": {},
     "output_type": "execute_result"
    }
   ],
   "source": [
    "bank.head(5)"
   ]
  },
  {
   "cell_type": "markdown",
   "metadata": {},
   "source": [
    "We can figure that following columns are categorical type.\n",
    "\n",
    "- Family ( ORDINAL )\n",
    "- Education ( NOMINAL )\n",
    "- Personal Loan `target column`\n",
    "- Securities Account ( NOMINAL )\n",
    "- CD Account ( NOMINAL )\n",
    "- Online ( NOMINAL )\n",
    "- Credit Card ( NOMINAL )\n",
    "\n",
    "Let us check if all columns are in appropriate data format."
   ]
  },
  {
   "cell_type": "code",
   "execution_count": 4,
   "metadata": {
    "ExecuteTime": {
     "end_time": "2019-10-20T11:25:40.392788Z",
     "start_time": "2019-10-20T11:25:40.375809Z"
    },
    "scrolled": true
   },
   "outputs": [
    {
     "data": {
      "text/plain": [
       "ID                      int64\n",
       "Age                     int64\n",
       "Experience              int64\n",
       "Income                  int64\n",
       "ZIP Code                int64\n",
       "Family                  int64\n",
       "CCAvg                 float64\n",
       "Education               int64\n",
       "Mortgage               object\n",
       "Personal Loan           int64\n",
       "Securities Account    float64\n",
       "CD Account             object\n",
       "Online                  int64\n",
       "CreditCard              int64\n",
       "dtype: object"
      ]
     },
     "execution_count": 4,
     "metadata": {},
     "output_type": "execute_result"
    }
   ],
   "source": [
    "bank.dtypes"
   ]
  },
  {
   "cell_type": "markdown",
   "metadata": {},
   "source": [
    "<div class=\"alert alert-block alert-info\"><b> \n",
    "    \n",
    "- All nominal variables should be converted to category type. \n",
    "- Mortgage and CD Account should be float but pandas read it as object. This means there are some string type values.\n",
    "</b></div>    \n",
    "\n",
    "Let us verify which string values are present in these column."
   ]
  },
  {
   "cell_type": "code",
   "execution_count": 5,
   "metadata": {},
   "outputs": [
    {
     "data": {
      "text/plain": [
       "0    4697\n",
       "1     302\n",
       "#       1\n",
       "Name: CD Account, dtype: int64"
      ]
     },
     "execution_count": 5,
     "metadata": {},
     "output_type": "execute_result"
    }
   ],
   "source": [
    "bank[\"CD Account\"].value_counts()"
   ]
  },
  {
   "cell_type": "code",
   "execution_count": 6,
   "metadata": {
    "ExecuteTime": {
     "end_time": "2019-10-20T11:25:40.509376Z",
     "start_time": "2019-10-20T11:25:40.398702Z"
    }
   },
   "outputs": [
    {
     "name": "stdout",
     "output_type": "stream",
     "text": [
      "\n",
      " Mortgage  ----->>\n",
      "12 ?\n",
      "19 ?\n",
      "\n",
      " CD Account  ----->>\n",
      "3 #\n"
     ]
    }
   ],
   "source": [
    "for col in ['Mortgage' , 'CD Account'] :\n",
    "    print('\\n', col, ' ----->>')\n",
    "    for index in range(0, len(bank)):\n",
    "        try :\n",
    "            skip = float(bank.loc[index, col])\n",
    "        except ValueError :\n",
    "            print(index, bank.loc[index, col])"
   ]
  },
  {
   "cell_type": "markdown",
   "metadata": {},
   "source": [
    "As we can see all these string values are spaces. Let us read the data again and instruct pandas to read space as NA. "
   ]
  },
  {
   "cell_type": "code",
   "execution_count": 7,
   "metadata": {
    "ExecuteTime": {
     "end_time": "2019-10-20T11:25:40.531938Z",
     "start_time": "2019-10-20T11:25:40.511899Z"
    }
   },
   "outputs": [
    {
     "data": {
      "text/plain": [
       "ID                      int64\n",
       "Age                     int64\n",
       "Experience              int64\n",
       "Income                  int64\n",
       "ZIP Code                int64\n",
       "Family                  int64\n",
       "CCAvg                 float64\n",
       "Education               int64\n",
       "Mortgage              float64\n",
       "Personal Loan           int64\n",
       "Securities Account    float64\n",
       "CD Account            float64\n",
       "Online                  int64\n",
       "CreditCard              int64\n",
       "dtype: object"
      ]
     },
     "execution_count": 7,
     "metadata": {},
     "output_type": "execute_result"
    }
   ],
   "source": [
    "bank = pd.read_csv('UnivBank.csv', na_values = ['?', '#'])\n",
    "bank.dtypes"
   ]
  },
  {
   "cell_type": "markdown",
   "metadata": {},
   "source": [
    "Now, Mortgage and CD Account is correctly read as float.\n",
    "\n",
    "<div class=\"alert alert-block alert-info\"><b> \n",
    "\n",
    "- We will check if ID is unique then we will convert it to row index.\n",
    "</b></div>    "
   ]
  },
  {
   "cell_type": "code",
   "execution_count": 8,
   "metadata": {
    "ExecuteTime": {
     "end_time": "2019-10-20T11:25:40.553008Z",
     "start_time": "2019-10-20T11:25:40.536990Z"
    }
   },
   "outputs": [
    {
     "data": {
      "text/plain": [
       "5000"
      ]
     },
     "execution_count": 8,
     "metadata": {},
     "output_type": "execute_result"
    }
   ],
   "source": [
    "bank.ID.nunique()"
   ]
  },
  {
   "cell_type": "code",
   "execution_count": 9,
   "metadata": {
    "ExecuteTime": {
     "end_time": "2019-10-20T11:25:40.568945Z",
     "start_time": "2019-10-20T11:25:40.557520Z"
    }
   },
   "outputs": [],
   "source": [
    "bank.set_index('ID', inplace = True)"
   ]
  },
  {
   "cell_type": "markdown",
   "metadata": {},
   "source": [
    "Let us seperate our numerical and categorical attributes."
   ]
  },
  {
   "cell_type": "code",
   "execution_count": 10,
   "metadata": {
    "ExecuteTime": {
     "end_time": "2019-10-20T11:25:40.594984Z",
     "start_time": "2019-10-20T11:25:40.579993Z"
    },
    "scrolled": true
   },
   "outputs": [
    {
     "name": "stdout",
     "output_type": "stream",
     "text": [
      "Index(['Age', 'Experience', 'Income', 'ZIP Code', 'Family', 'CCAvg',\n",
      "       'Mortgage', 'Personal Loan'],\n",
      "      dtype='object')\n"
     ]
    },
    {
     "data": {
      "text/plain": [
       "Index(['Age', 'Experience', 'Income', 'ZIP Code', 'Family', 'CCAvg',\n",
       "       'Mortgage'],\n",
       "      dtype='object')"
      ]
     },
     "execution_count": 10,
     "metadata": {},
     "output_type": "execute_result"
    }
   ],
   "source": [
    "cat_cols = ['Education', 'Securities Account', 'CD Account', 'Online', 'CreditCard']\n",
    "\n",
    "num_cols = bank.columns[~bank.columns.isin(cat_cols)]\n",
    "\n",
    "print(num_cols)\n",
    "num_cols = num_cols.delete(-1)\n",
    "num_cols"
   ]
  },
  {
   "cell_type": "markdown",
   "metadata": {},
   "source": [
    "We shall check there are no invalid values in any of the categorical variables."
   ]
  },
  {
   "cell_type": "code",
   "execution_count": 11,
   "metadata": {
    "ExecuteTime": {
     "end_time": "2019-10-20T11:25:40.612210Z",
     "start_time": "2019-10-20T11:25:40.598396Z"
    },
    "scrolled": true
   },
   "outputs": [
    {
     "name": "stdout",
     "output_type": "stream",
     "text": [
      "Education ----->> [1 2 3] \n",
      "\n",
      "Securities Account ----->> [ 1.  0. nan] \n",
      "\n",
      "CD Account ----->> [ 0. nan  1.] \n",
      "\n",
      "Online ----->> [0 1] \n",
      "\n",
      "CreditCard ----->> [0 1] \n",
      "\n"
     ]
    }
   ],
   "source": [
    "for x in cat_cols :\n",
    "    print(x, '----->>', bank[x].unique(), '\\n')"
   ]
  },
  {
   "cell_type": "code",
   "execution_count": 12,
   "metadata": {
    "ExecuteTime": {
     "end_time": "2019-10-20T11:25:40.684733Z",
     "start_time": "2019-10-20T11:25:40.615328Z"
    }
   },
   "outputs": [
    {
     "data": {
      "text/html": [
       "<div>\n",
       "<style scoped>\n",
       "    .dataframe tbody tr th:only-of-type {\n",
       "        vertical-align: middle;\n",
       "    }\n",
       "\n",
       "    .dataframe tbody tr th {\n",
       "        vertical-align: top;\n",
       "    }\n",
       "\n",
       "    .dataframe thead th {\n",
       "        text-align: right;\n",
       "    }\n",
       "</style>\n",
       "<table border=\"1\" class=\"dataframe\">\n",
       "  <thead>\n",
       "    <tr style=\"text-align: right;\">\n",
       "      <th></th>\n",
       "      <th>Age</th>\n",
       "      <th>Experience</th>\n",
       "      <th>Income</th>\n",
       "      <th>ZIP Code</th>\n",
       "      <th>Family</th>\n",
       "      <th>CCAvg</th>\n",
       "      <th>Mortgage</th>\n",
       "    </tr>\n",
       "  </thead>\n",
       "  <tbody>\n",
       "    <tr>\n",
       "      <th>count</th>\n",
       "      <td>5000.000000</td>\n",
       "      <td>5000.000000</td>\n",
       "      <td>5000.000000</td>\n",
       "      <td>5000.000000</td>\n",
       "      <td>5000.000000</td>\n",
       "      <td>5000.000000</td>\n",
       "      <td>4998.000000</td>\n",
       "    </tr>\n",
       "    <tr>\n",
       "      <th>mean</th>\n",
       "      <td>45.338400</td>\n",
       "      <td>20.104600</td>\n",
       "      <td>73.774200</td>\n",
       "      <td>93152.503000</td>\n",
       "      <td>2.396400</td>\n",
       "      <td>1.937938</td>\n",
       "      <td>56.521409</td>\n",
       "    </tr>\n",
       "    <tr>\n",
       "      <th>std</th>\n",
       "      <td>11.463166</td>\n",
       "      <td>11.467954</td>\n",
       "      <td>46.033729</td>\n",
       "      <td>2121.852197</td>\n",
       "      <td>1.147663</td>\n",
       "      <td>1.747659</td>\n",
       "      <td>101.727873</td>\n",
       "    </tr>\n",
       "    <tr>\n",
       "      <th>min</th>\n",
       "      <td>23.000000</td>\n",
       "      <td>-3.000000</td>\n",
       "      <td>8.000000</td>\n",
       "      <td>9307.000000</td>\n",
       "      <td>1.000000</td>\n",
       "      <td>0.000000</td>\n",
       "      <td>0.000000</td>\n",
       "    </tr>\n",
       "    <tr>\n",
       "      <th>25%</th>\n",
       "      <td>35.000000</td>\n",
       "      <td>10.000000</td>\n",
       "      <td>39.000000</td>\n",
       "      <td>91911.000000</td>\n",
       "      <td>1.000000</td>\n",
       "      <td>0.700000</td>\n",
       "      <td>0.000000</td>\n",
       "    </tr>\n",
       "    <tr>\n",
       "      <th>50%</th>\n",
       "      <td>45.000000</td>\n",
       "      <td>20.000000</td>\n",
       "      <td>64.000000</td>\n",
       "      <td>93437.000000</td>\n",
       "      <td>2.000000</td>\n",
       "      <td>1.500000</td>\n",
       "      <td>0.000000</td>\n",
       "    </tr>\n",
       "    <tr>\n",
       "      <th>75%</th>\n",
       "      <td>55.000000</td>\n",
       "      <td>30.000000</td>\n",
       "      <td>98.000000</td>\n",
       "      <td>94608.000000</td>\n",
       "      <td>3.000000</td>\n",
       "      <td>2.500000</td>\n",
       "      <td>101.000000</td>\n",
       "    </tr>\n",
       "    <tr>\n",
       "      <th>max</th>\n",
       "      <td>67.000000</td>\n",
       "      <td>43.000000</td>\n",
       "      <td>224.000000</td>\n",
       "      <td>96651.000000</td>\n",
       "      <td>4.000000</td>\n",
       "      <td>10.000000</td>\n",
       "      <td>635.000000</td>\n",
       "    </tr>\n",
       "  </tbody>\n",
       "</table>\n",
       "</div>"
      ],
      "text/plain": [
       "               Age   Experience       Income      ZIP Code       Family  \\\n",
       "count  5000.000000  5000.000000  5000.000000   5000.000000  5000.000000   \n",
       "mean     45.338400    20.104600    73.774200  93152.503000     2.396400   \n",
       "std      11.463166    11.467954    46.033729   2121.852197     1.147663   \n",
       "min      23.000000    -3.000000     8.000000   9307.000000     1.000000   \n",
       "25%      35.000000    10.000000    39.000000  91911.000000     1.000000   \n",
       "50%      45.000000    20.000000    64.000000  93437.000000     2.000000   \n",
       "75%      55.000000    30.000000    98.000000  94608.000000     3.000000   \n",
       "max      67.000000    43.000000   224.000000  96651.000000     4.000000   \n",
       "\n",
       "             CCAvg     Mortgage  \n",
       "count  5000.000000  4998.000000  \n",
       "mean      1.937938    56.521409  \n",
       "std       1.747659   101.727873  \n",
       "min       0.000000     0.000000  \n",
       "25%       0.700000     0.000000  \n",
       "50%       1.500000     0.000000  \n",
       "75%       2.500000   101.000000  \n",
       "max      10.000000   635.000000  "
      ]
     },
     "execution_count": 12,
     "metadata": {},
     "output_type": "execute_result"
    }
   ],
   "source": [
    "bank[num_cols].describe()"
   ]
  },
  {
   "cell_type": "markdown",
   "metadata": {},
   "source": [
    "<div class=\"alert alert-block alert-info\"><b> \n",
    "\n",
    "- Experience cannot be negative.\n",
    "</b></div>    \n",
    "\n",
    "Let us see how many observations have negative experience."
   ]
  },
  {
   "cell_type": "code",
   "execution_count": 13,
   "metadata": {
    "ExecuteTime": {
     "end_time": "2019-10-20T11:25:40.699990Z",
     "start_time": "2019-10-20T11:25:40.687122Z"
    }
   },
   "outputs": [
    {
     "data": {
      "text/plain": [
       "(52, 13)"
      ]
     },
     "execution_count": 13,
     "metadata": {},
     "output_type": "execute_result"
    }
   ],
   "source": [
    "bank[bank.Experience < 0].shape"
   ]
  },
  {
   "cell_type": "markdown",
   "metadata": {},
   "source": [
    "There are 52 observations with experience less than 0."
   ]
  },
  {
   "cell_type": "code",
   "execution_count": 14,
   "metadata": {
    "ExecuteTime": {
     "end_time": "2019-10-20T11:25:40.722858Z",
     "start_time": "2019-10-20T11:25:40.702270Z"
    }
   },
   "outputs": [
    {
     "data": {
      "text/plain": [
       "Age  Experience\n",
       "23   -3             2\n",
       "     -2             4\n",
       "     -1             6\n",
       "24   -3             2\n",
       "     -2             9\n",
       "     -1             6\n",
       "25   -2             1\n",
       "     -1            17\n",
       "26   -1             1\n",
       "28   -2             1\n",
       "29   -1             3\n",
       "Name: Personal Loan, dtype: int64"
      ]
     },
     "execution_count": 14,
     "metadata": {},
     "output_type": "execute_result"
    }
   ],
   "source": [
    "bank[bank.Experience < 0].groupby(['Age', 'Experience']).count()['Personal Loan']"
   ]
  },
  {
   "cell_type": "markdown",
   "metadata": {},
   "source": [
    "Based on the Age-Experience break up, we can see that there is no way to understand these values.\n",
    "\n",
    "- Experience -1 is assigned for each of these Age level.\n",
    "\n",
    "We can check if everyone below Age 30 has negative experience value."
   ]
  },
  {
   "cell_type": "code",
   "execution_count": 15,
   "metadata": {
    "ExecuteTime": {
     "end_time": "2019-10-20T11:25:40.739113Z",
     "start_time": "2019-10-20T11:25:40.725853Z"
    },
    "scrolled": true
   },
   "outputs": [
    {
     "data": {
      "text/plain": [
       "(436, 13)"
      ]
     },
     "execution_count": 15,
     "metadata": {},
     "output_type": "execute_result"
    }
   ],
   "source": [
    "bank[(bank.Experience >= 0) & (bank.Age < 30)].shape"
   ]
  },
  {
   "cell_type": "markdown",
   "metadata": {},
   "source": [
    "There are 436 observation where customers with Age less than 30 have negative experience. \n",
    "\n",
    "Let us plot the relationship between average experience w.r.t Age."
   ]
  },
  {
   "cell_type": "code",
   "execution_count": 16,
   "metadata": {},
   "outputs": [
    {
     "data": {
      "text/html": [
       "<div>\n",
       "<style scoped>\n",
       "    .dataframe tbody tr th:only-of-type {\n",
       "        vertical-align: middle;\n",
       "    }\n",
       "\n",
       "    .dataframe tbody tr th {\n",
       "        vertical-align: top;\n",
       "    }\n",
       "\n",
       "    .dataframe thead th {\n",
       "        text-align: right;\n",
       "    }\n",
       "</style>\n",
       "<table border=\"1\" class=\"dataframe\">\n",
       "  <thead>\n",
       "    <tr style=\"text-align: right;\">\n",
       "      <th></th>\n",
       "      <th>Experience</th>\n",
       "    </tr>\n",
       "    <tr>\n",
       "      <th>Age</th>\n",
       "      <th></th>\n",
       "    </tr>\n",
       "  </thead>\n",
       "  <tbody>\n",
       "    <tr>\n",
       "      <th>23</th>\n",
       "      <td>-1.666667</td>\n",
       "    </tr>\n",
       "    <tr>\n",
       "      <th>24</th>\n",
       "      <td>-1.071429</td>\n",
       "    </tr>\n",
       "    <tr>\n",
       "      <th>25</th>\n",
       "      <td>-0.018868</td>\n",
       "    </tr>\n",
       "    <tr>\n",
       "      <th>26</th>\n",
       "      <td>0.961538</td>\n",
       "    </tr>\n",
       "    <tr>\n",
       "      <th>27</th>\n",
       "      <td>1.923077</td>\n",
       "    </tr>\n",
       "    <tr>\n",
       "      <th>28</th>\n",
       "      <td>2.961165</td>\n",
       "    </tr>\n",
       "    <tr>\n",
       "      <th>29</th>\n",
       "      <td>3.715447</td>\n",
       "    </tr>\n",
       "    <tr>\n",
       "      <th>30</th>\n",
       "      <td>4.860294</td>\n",
       "    </tr>\n",
       "    <tr>\n",
       "      <th>31</th>\n",
       "      <td>5.552000</td>\n",
       "    </tr>\n",
       "    <tr>\n",
       "      <th>32</th>\n",
       "      <td>6.850000</td>\n",
       "    </tr>\n",
       "    <tr>\n",
       "      <th>33</th>\n",
       "      <td>7.641667</td>\n",
       "    </tr>\n",
       "    <tr>\n",
       "      <th>34</th>\n",
       "      <td>8.932836</td>\n",
       "    </tr>\n",
       "    <tr>\n",
       "      <th>35</th>\n",
       "      <td>9.556291</td>\n",
       "    </tr>\n",
       "    <tr>\n",
       "      <th>36</th>\n",
       "      <td>10.635514</td>\n",
       "    </tr>\n",
       "    <tr>\n",
       "      <th>37</th>\n",
       "      <td>11.820755</td>\n",
       "    </tr>\n",
       "    <tr>\n",
       "      <th>38</th>\n",
       "      <td>12.860870</td>\n",
       "    </tr>\n",
       "    <tr>\n",
       "      <th>39</th>\n",
       "      <td>13.766917</td>\n",
       "    </tr>\n",
       "    <tr>\n",
       "      <th>40</th>\n",
       "      <td>14.904000</td>\n",
       "    </tr>\n",
       "    <tr>\n",
       "      <th>41</th>\n",
       "      <td>16.029412</td>\n",
       "    </tr>\n",
       "    <tr>\n",
       "      <th>42</th>\n",
       "      <td>17.000000</td>\n",
       "    </tr>\n",
       "    <tr>\n",
       "      <th>43</th>\n",
       "      <td>18.033557</td>\n",
       "    </tr>\n",
       "    <tr>\n",
       "      <th>44</th>\n",
       "      <td>19.057851</td>\n",
       "    </tr>\n",
       "    <tr>\n",
       "      <th>45</th>\n",
       "      <td>19.724409</td>\n",
       "    </tr>\n",
       "    <tr>\n",
       "      <th>46</th>\n",
       "      <td>20.834646</td>\n",
       "    </tr>\n",
       "    <tr>\n",
       "      <th>47</th>\n",
       "      <td>21.893805</td>\n",
       "    </tr>\n",
       "    <tr>\n",
       "      <th>48</th>\n",
       "      <td>22.838983</td>\n",
       "    </tr>\n",
       "    <tr>\n",
       "      <th>49</th>\n",
       "      <td>23.756522</td>\n",
       "    </tr>\n",
       "    <tr>\n",
       "      <th>50</th>\n",
       "      <td>24.652174</td>\n",
       "    </tr>\n",
       "    <tr>\n",
       "      <th>51</th>\n",
       "      <td>25.806202</td>\n",
       "    </tr>\n",
       "    <tr>\n",
       "      <th>52</th>\n",
       "      <td>26.813793</td>\n",
       "    </tr>\n",
       "    <tr>\n",
       "      <th>53</th>\n",
       "      <td>27.464286</td>\n",
       "    </tr>\n",
       "    <tr>\n",
       "      <th>54</th>\n",
       "      <td>28.412587</td>\n",
       "    </tr>\n",
       "    <tr>\n",
       "      <th>55</th>\n",
       "      <td>29.312000</td>\n",
       "    </tr>\n",
       "    <tr>\n",
       "      <th>56</th>\n",
       "      <td>30.488889</td>\n",
       "    </tr>\n",
       "    <tr>\n",
       "      <th>57</th>\n",
       "      <td>31.590909</td>\n",
       "    </tr>\n",
       "    <tr>\n",
       "      <th>58</th>\n",
       "      <td>32.559441</td>\n",
       "    </tr>\n",
       "    <tr>\n",
       "      <th>59</th>\n",
       "      <td>34.000000</td>\n",
       "    </tr>\n",
       "    <tr>\n",
       "      <th>60</th>\n",
       "      <td>34.645669</td>\n",
       "    </tr>\n",
       "    <tr>\n",
       "      <th>61</th>\n",
       "      <td>35.672131</td>\n",
       "    </tr>\n",
       "    <tr>\n",
       "      <th>62</th>\n",
       "      <td>36.829268</td>\n",
       "    </tr>\n",
       "    <tr>\n",
       "      <th>63</th>\n",
       "      <td>37.638889</td>\n",
       "    </tr>\n",
       "    <tr>\n",
       "      <th>64</th>\n",
       "      <td>38.846154</td>\n",
       "    </tr>\n",
       "    <tr>\n",
       "      <th>65</th>\n",
       "      <td>39.812500</td>\n",
       "    </tr>\n",
       "    <tr>\n",
       "      <th>66</th>\n",
       "      <td>40.875000</td>\n",
       "    </tr>\n",
       "    <tr>\n",
       "      <th>67</th>\n",
       "      <td>41.833333</td>\n",
       "    </tr>\n",
       "  </tbody>\n",
       "</table>\n",
       "</div>"
      ],
      "text/plain": [
       "     Experience\n",
       "Age            \n",
       "23    -1.666667\n",
       "24    -1.071429\n",
       "25    -0.018868\n",
       "26     0.961538\n",
       "27     1.923077\n",
       "28     2.961165\n",
       "29     3.715447\n",
       "30     4.860294\n",
       "31     5.552000\n",
       "32     6.850000\n",
       "33     7.641667\n",
       "34     8.932836\n",
       "35     9.556291\n",
       "36    10.635514\n",
       "37    11.820755\n",
       "38    12.860870\n",
       "39    13.766917\n",
       "40    14.904000\n",
       "41    16.029412\n",
       "42    17.000000\n",
       "43    18.033557\n",
       "44    19.057851\n",
       "45    19.724409\n",
       "46    20.834646\n",
       "47    21.893805\n",
       "48    22.838983\n",
       "49    23.756522\n",
       "50    24.652174\n",
       "51    25.806202\n",
       "52    26.813793\n",
       "53    27.464286\n",
       "54    28.412587\n",
       "55    29.312000\n",
       "56    30.488889\n",
       "57    31.590909\n",
       "58    32.559441\n",
       "59    34.000000\n",
       "60    34.645669\n",
       "61    35.672131\n",
       "62    36.829268\n",
       "63    37.638889\n",
       "64    38.846154\n",
       "65    39.812500\n",
       "66    40.875000\n",
       "67    41.833333"
      ]
     },
     "execution_count": 16,
     "metadata": {},
     "output_type": "execute_result"
    }
   ],
   "source": [
    "df = pd.DataFrame(bank.groupby(\"Age\").mean()[\"Experience\"])\n",
    "df"
   ]
  },
  {
   "cell_type": "code",
   "execution_count": 17,
   "metadata": {},
   "outputs": [
    {
     "data": {
      "text/html": [
       "<div>\n",
       "<style scoped>\n",
       "    .dataframe tbody tr th:only-of-type {\n",
       "        vertical-align: middle;\n",
       "    }\n",
       "\n",
       "    .dataframe tbody tr th {\n",
       "        vertical-align: top;\n",
       "    }\n",
       "\n",
       "    .dataframe thead th {\n",
       "        text-align: right;\n",
       "    }\n",
       "</style>\n",
       "<table border=\"1\" class=\"dataframe\">\n",
       "  <thead>\n",
       "    <tr style=\"text-align: right;\">\n",
       "      <th></th>\n",
       "      <th>Age</th>\n",
       "      <th>Experience</th>\n",
       "    </tr>\n",
       "  </thead>\n",
       "  <tbody>\n",
       "    <tr>\n",
       "      <th>0</th>\n",
       "      <td>23</td>\n",
       "      <td>-1.666667</td>\n",
       "    </tr>\n",
       "    <tr>\n",
       "      <th>1</th>\n",
       "      <td>24</td>\n",
       "      <td>-1.071429</td>\n",
       "    </tr>\n",
       "    <tr>\n",
       "      <th>2</th>\n",
       "      <td>25</td>\n",
       "      <td>-0.018868</td>\n",
       "    </tr>\n",
       "    <tr>\n",
       "      <th>3</th>\n",
       "      <td>26</td>\n",
       "      <td>0.961538</td>\n",
       "    </tr>\n",
       "    <tr>\n",
       "      <th>4</th>\n",
       "      <td>27</td>\n",
       "      <td>1.923077</td>\n",
       "    </tr>\n",
       "    <tr>\n",
       "      <th>5</th>\n",
       "      <td>28</td>\n",
       "      <td>2.961165</td>\n",
       "    </tr>\n",
       "    <tr>\n",
       "      <th>6</th>\n",
       "      <td>29</td>\n",
       "      <td>3.715447</td>\n",
       "    </tr>\n",
       "    <tr>\n",
       "      <th>7</th>\n",
       "      <td>30</td>\n",
       "      <td>4.860294</td>\n",
       "    </tr>\n",
       "    <tr>\n",
       "      <th>8</th>\n",
       "      <td>31</td>\n",
       "      <td>5.552000</td>\n",
       "    </tr>\n",
       "    <tr>\n",
       "      <th>9</th>\n",
       "      <td>32</td>\n",
       "      <td>6.850000</td>\n",
       "    </tr>\n",
       "    <tr>\n",
       "      <th>10</th>\n",
       "      <td>33</td>\n",
       "      <td>7.641667</td>\n",
       "    </tr>\n",
       "    <tr>\n",
       "      <th>11</th>\n",
       "      <td>34</td>\n",
       "      <td>8.932836</td>\n",
       "    </tr>\n",
       "    <tr>\n",
       "      <th>12</th>\n",
       "      <td>35</td>\n",
       "      <td>9.556291</td>\n",
       "    </tr>\n",
       "    <tr>\n",
       "      <th>13</th>\n",
       "      <td>36</td>\n",
       "      <td>10.635514</td>\n",
       "    </tr>\n",
       "    <tr>\n",
       "      <th>14</th>\n",
       "      <td>37</td>\n",
       "      <td>11.820755</td>\n",
       "    </tr>\n",
       "    <tr>\n",
       "      <th>15</th>\n",
       "      <td>38</td>\n",
       "      <td>12.860870</td>\n",
       "    </tr>\n",
       "    <tr>\n",
       "      <th>16</th>\n",
       "      <td>39</td>\n",
       "      <td>13.766917</td>\n",
       "    </tr>\n",
       "    <tr>\n",
       "      <th>17</th>\n",
       "      <td>40</td>\n",
       "      <td>14.904000</td>\n",
       "    </tr>\n",
       "    <tr>\n",
       "      <th>18</th>\n",
       "      <td>41</td>\n",
       "      <td>16.029412</td>\n",
       "    </tr>\n",
       "    <tr>\n",
       "      <th>19</th>\n",
       "      <td>42</td>\n",
       "      <td>17.000000</td>\n",
       "    </tr>\n",
       "    <tr>\n",
       "      <th>20</th>\n",
       "      <td>43</td>\n",
       "      <td>18.033557</td>\n",
       "    </tr>\n",
       "    <tr>\n",
       "      <th>21</th>\n",
       "      <td>44</td>\n",
       "      <td>19.057851</td>\n",
       "    </tr>\n",
       "    <tr>\n",
       "      <th>22</th>\n",
       "      <td>45</td>\n",
       "      <td>19.724409</td>\n",
       "    </tr>\n",
       "    <tr>\n",
       "      <th>23</th>\n",
       "      <td>46</td>\n",
       "      <td>20.834646</td>\n",
       "    </tr>\n",
       "    <tr>\n",
       "      <th>24</th>\n",
       "      <td>47</td>\n",
       "      <td>21.893805</td>\n",
       "    </tr>\n",
       "    <tr>\n",
       "      <th>25</th>\n",
       "      <td>48</td>\n",
       "      <td>22.838983</td>\n",
       "    </tr>\n",
       "    <tr>\n",
       "      <th>26</th>\n",
       "      <td>49</td>\n",
       "      <td>23.756522</td>\n",
       "    </tr>\n",
       "    <tr>\n",
       "      <th>27</th>\n",
       "      <td>50</td>\n",
       "      <td>24.652174</td>\n",
       "    </tr>\n",
       "    <tr>\n",
       "      <th>28</th>\n",
       "      <td>51</td>\n",
       "      <td>25.806202</td>\n",
       "    </tr>\n",
       "    <tr>\n",
       "      <th>29</th>\n",
       "      <td>52</td>\n",
       "      <td>26.813793</td>\n",
       "    </tr>\n",
       "    <tr>\n",
       "      <th>30</th>\n",
       "      <td>53</td>\n",
       "      <td>27.464286</td>\n",
       "    </tr>\n",
       "    <tr>\n",
       "      <th>31</th>\n",
       "      <td>54</td>\n",
       "      <td>28.412587</td>\n",
       "    </tr>\n",
       "    <tr>\n",
       "      <th>32</th>\n",
       "      <td>55</td>\n",
       "      <td>29.312000</td>\n",
       "    </tr>\n",
       "    <tr>\n",
       "      <th>33</th>\n",
       "      <td>56</td>\n",
       "      <td>30.488889</td>\n",
       "    </tr>\n",
       "    <tr>\n",
       "      <th>34</th>\n",
       "      <td>57</td>\n",
       "      <td>31.590909</td>\n",
       "    </tr>\n",
       "    <tr>\n",
       "      <th>35</th>\n",
       "      <td>58</td>\n",
       "      <td>32.559441</td>\n",
       "    </tr>\n",
       "    <tr>\n",
       "      <th>36</th>\n",
       "      <td>59</td>\n",
       "      <td>34.000000</td>\n",
       "    </tr>\n",
       "    <tr>\n",
       "      <th>37</th>\n",
       "      <td>60</td>\n",
       "      <td>34.645669</td>\n",
       "    </tr>\n",
       "    <tr>\n",
       "      <th>38</th>\n",
       "      <td>61</td>\n",
       "      <td>35.672131</td>\n",
       "    </tr>\n",
       "    <tr>\n",
       "      <th>39</th>\n",
       "      <td>62</td>\n",
       "      <td>36.829268</td>\n",
       "    </tr>\n",
       "    <tr>\n",
       "      <th>40</th>\n",
       "      <td>63</td>\n",
       "      <td>37.638889</td>\n",
       "    </tr>\n",
       "    <tr>\n",
       "      <th>41</th>\n",
       "      <td>64</td>\n",
       "      <td>38.846154</td>\n",
       "    </tr>\n",
       "    <tr>\n",
       "      <th>42</th>\n",
       "      <td>65</td>\n",
       "      <td>39.812500</td>\n",
       "    </tr>\n",
       "    <tr>\n",
       "      <th>43</th>\n",
       "      <td>66</td>\n",
       "      <td>40.875000</td>\n",
       "    </tr>\n",
       "    <tr>\n",
       "      <th>44</th>\n",
       "      <td>67</td>\n",
       "      <td>41.833333</td>\n",
       "    </tr>\n",
       "  </tbody>\n",
       "</table>\n",
       "</div>"
      ],
      "text/plain": [
       "    Age  Experience\n",
       "0    23   -1.666667\n",
       "1    24   -1.071429\n",
       "2    25   -0.018868\n",
       "3    26    0.961538\n",
       "4    27    1.923077\n",
       "5    28    2.961165\n",
       "6    29    3.715447\n",
       "7    30    4.860294\n",
       "8    31    5.552000\n",
       "9    32    6.850000\n",
       "10   33    7.641667\n",
       "11   34    8.932836\n",
       "12   35    9.556291\n",
       "13   36   10.635514\n",
       "14   37   11.820755\n",
       "15   38   12.860870\n",
       "16   39   13.766917\n",
       "17   40   14.904000\n",
       "18   41   16.029412\n",
       "19   42   17.000000\n",
       "20   43   18.033557\n",
       "21   44   19.057851\n",
       "22   45   19.724409\n",
       "23   46   20.834646\n",
       "24   47   21.893805\n",
       "25   48   22.838983\n",
       "26   49   23.756522\n",
       "27   50   24.652174\n",
       "28   51   25.806202\n",
       "29   52   26.813793\n",
       "30   53   27.464286\n",
       "31   54   28.412587\n",
       "32   55   29.312000\n",
       "33   56   30.488889\n",
       "34   57   31.590909\n",
       "35   58   32.559441\n",
       "36   59   34.000000\n",
       "37   60   34.645669\n",
       "38   61   35.672131\n",
       "39   62   36.829268\n",
       "40   63   37.638889\n",
       "41   64   38.846154\n",
       "42   65   39.812500\n",
       "43   66   40.875000\n",
       "44   67   41.833333"
      ]
     },
     "execution_count": 17,
     "metadata": {},
     "output_type": "execute_result"
    }
   ],
   "source": [
    "df = pd.DataFrame(bank.groupby(\"Age\").mean()[\"Experience\"]).reset_index()\n",
    "df"
   ]
  },
  {
   "cell_type": "code",
   "execution_count": 18,
   "metadata": {
    "ExecuteTime": {
     "end_time": "2019-10-20T11:25:42.099986Z",
     "start_time": "2019-10-20T11:25:40.745605Z"
    }
   },
   "outputs": [
    {
     "data": {
      "image/png": "[encoded data removed]",
      "text/plain": [
       "<Figure size 360x360 with 1 Axes>"
      ]
     },
     "metadata": {
      "needs_background": "light"
     },
     "output_type": "display_data"
    }
   ],
   "source": [
    "import seaborn as sns\n",
    "import matplotlib.pyplot as plt\n",
    "\n",
    "df = pd.DataFrame(bank.groupby(\"Age\").mean()[\"Experience\"]).reset_index()\n",
    "\n",
    "sns.lmplot(x = 'Age', y = 'Experience', data=df)\n",
    "plt.ylabel(\"Experience(Mean)\")\n",
    "plt.title(\"Mean Experience by Age\")\n",
    "plt.show()"
   ]
  },
  {
   "cell_type": "markdown",
   "metadata": {},
   "source": [
    "- We see a very linear plot. \n",
    "- Also, we have 3 specific values [-1, -2, -3] and not just any random values.\n",
    "\n",
    "The experience value doesn't look random. \n",
    "\n",
    "> In such situations, it is critical to reach the client and ask for clarification.\n",
    "\n",
    "We will not change these values for now as we don't see them to be invalid."
   ]
  },
  {
   "cell_type": "markdown",
   "metadata": {},
   "source": [
    "Let us check for number of NA values."
   ]
  },
  {
   "cell_type": "code",
   "execution_count": 19,
   "metadata": {
    "ExecuteTime": {
     "end_time": "2019-10-20T11:25:42.117584Z",
     "start_time": "2019-10-20T11:25:42.103455Z"
    },
    "scrolled": true
   },
   "outputs": [
    {
     "data": {
      "text/plain": [
       "Age                   0\n",
       "Experience            0\n",
       "Income                0\n",
       "ZIP Code              0\n",
       "Family                0\n",
       "CCAvg                 0\n",
       "Education             0\n",
       "Mortgage              2\n",
       "Personal Loan         0\n",
       "Securities Account    2\n",
       "CD Account            1\n",
       "Online                0\n",
       "CreditCard            0\n",
       "dtype: int64"
      ]
     },
     "execution_count": 19,
     "metadata": {},
     "output_type": "execute_result"
    }
   ],
   "source": [
    "bank.isnull().sum()"
   ]
  },
  {
   "cell_type": "markdown",
   "metadata": {},
   "source": [
    "<div class=\"alert alert-block alert-info\"><b> \n",
    "    \n",
    "- As there are only 4 NA value, we can impute them with the mean / mode value .\n",
    "\n",
    "</b></div>\n",
    "\n",
    "We will seperate our independent variables and target variable."
   ]
  },
  {
   "cell_type": "code",
   "execution_count": 20,
   "metadata": {
    "ExecuteTime": {
     "end_time": "2019-10-20T11:25:42.139956Z",
     "start_time": "2019-10-20T11:25:42.121493Z"
    }
   },
   "outputs": [],
   "source": [
    "X = bank.drop('Personal Loan', axis = 1)\n",
    "\n",
    "y = bank[\"Personal Loan\"]"
   ]
  },
  {
   "cell_type": "markdown",
   "metadata": {},
   "source": [
    "### Function to prepare data\n",
    "\n",
    "We will write a function to prepare data for following functions.\n",
    "\n",
    "- Train and Test Split\n",
    "- Fit the Imputer on Train Data\n",
    "- Fit the Scaler on Train Data"
   ]
  },
  {
   "cell_type": "code",
   "execution_count": 21,
   "metadata": {
    "ExecuteTime": {
     "end_time": "2019-10-20T11:25:43.218881Z",
     "start_time": "2019-10-20T11:25:42.147531Z"
    }
   },
   "outputs": [],
   "source": [
    "from sklearn.model_selection import train_test_split\n",
    "from sklearn.impute import SimpleImputer\n",
    "from sklearn.preprocessing import StandardScaler\n",
    "\n",
    "num_imputer = SimpleImputer()\n",
    "cat_imputer = SimpleImputer(strategy = 'most_frequent')\n",
    "num_scaler = StandardScaler()"
   ]
  },
  {
   "cell_type": "code",
   "execution_count": 22,
   "metadata": {
    "ExecuteTime": {
     "end_time": "2019-10-20T11:25:43.225646Z",
     "start_time": "2019-10-20T11:25:43.221003Z"
    }
   },
   "outputs": [],
   "source": [
    "def prepare_data(X, y, split_size = 0.3) :\n",
    "    \n",
    "    X_train, X_test, y_train, y_test = train_test_split(X, \n",
    "                                                        y, test_size = split_size)  \n",
    "    \n",
    "    num_imputer.fit(X_train[num_cols])\n",
    "    cat_imputer.fit(X_train[cat_cols])\n",
    "    num_scaler.fit(X_train[num_cols])\n",
    "    \n",
    "    return X_train, X_test, y_train, y_test"
   ]
  },
  {
   "cell_type": "code",
   "execution_count": 23,
   "metadata": {
    "ExecuteTime": {
     "end_time": "2019-10-20T11:25:43.258707Z",
     "start_time": "2019-10-20T11:25:43.233151Z"
    }
   },
   "outputs": [],
   "source": [
    "X_train, X_test, y_train, y_test = prepare_data(X, y, 0.2)"
   ]
  },
  {
   "cell_type": "code",
   "execution_count": 24,
   "metadata": {
    "ExecuteTime": {
     "end_time": "2019-10-20T11:25:43.269301Z",
     "start_time": "2019-10-20T11:25:43.261771Z"
    },
    "scrolled": true
   },
   "outputs": [
    {
     "name": "stdout",
     "output_type": "stream",
     "text": [
      "(4000, 12)\n",
      "(1000, 12)\n",
      "(4000,)\n",
      "(1000,)\n"
     ]
    }
   ],
   "source": [
    "print(X_train.shape)\n",
    "print(X_test.shape)\n",
    "print(y_train.shape)\n",
    "print(y_test.shape)"
   ]
  },
  {
   "cell_type": "markdown",
   "metadata": {},
   "source": [
    "### Function to pre-process data\n",
    "\n",
    "We will write a function to pre-process data for following functions. This function will be called to transform both train and test datasets.\n",
    "\n",
    "- Impute the numerical and categorical features\n",
    "- Scale the numerical features\n",
    "- Dummify the categorical features\n",
    "\n",
    "We are adding an argument for scale so that we can choose whether to scale or not."
   ]
  },
  {
   "cell_type": "code",
   "execution_count": 25,
   "metadata": {
    "ExecuteTime": {
     "end_time": "2019-10-20T11:25:43.296078Z",
     "start_time": "2019-10-20T11:25:43.275926Z"
    }
   },
   "outputs": [],
   "source": [
    "def preprocess_data(data, scale = False) :\n",
    "    \n",
    "    data[num_cols] = num_imputer.transform(data[num_cols])\n",
    "    data[cat_cols] = cat_imputer.transform(data[cat_cols])\n",
    "    \n",
    "    if scale == True :\n",
    "        data[num_cols] = num_scaler.transform(data[num_cols])\n",
    "    \n",
    "    data[cat_cols] = data[cat_cols].astype('category')\n",
    "    data = pd.get_dummies(data, drop_first = True)\n",
    "\n",
    "    return data"
   ]
  },
  {
   "cell_type": "code",
   "execution_count": 26,
   "metadata": {
    "ExecuteTime": {
     "end_time": "2019-10-20T11:25:44.390086Z",
     "start_time": "2019-10-20T11:25:43.309241Z"
    }
   },
   "outputs": [
    {
     "data": {
      "text/html": [
       "<div>\n",
       "<style scoped>\n",
       "    .dataframe tbody tr th:only-of-type {\n",
       "        vertical-align: middle;\n",
       "    }\n",
       "\n",
       "    .dataframe tbody tr th {\n",
       "        vertical-align: top;\n",
       "    }\n",
       "\n",
       "    .dataframe thead th {\n",
       "        text-align: right;\n",
       "    }\n",
       "</style>\n",
       "<table border=\"1\" class=\"dataframe\">\n",
       "  <thead>\n",
       "    <tr style=\"text-align: right;\">\n",
       "      <th></th>\n",
       "      <th>Age</th>\n",
       "      <th>Experience</th>\n",
       "      <th>Income</th>\n",
       "      <th>ZIP Code</th>\n",
       "      <th>Family</th>\n",
       "      <th>CCAvg</th>\n",
       "      <th>Mortgage</th>\n",
       "      <th>Education_2.0</th>\n",
       "      <th>Education_3.0</th>\n",
       "      <th>Securities Account_1.0</th>\n",
       "      <th>CD Account_1.0</th>\n",
       "      <th>Online_1.0</th>\n",
       "      <th>CreditCard_1.0</th>\n",
       "    </tr>\n",
       "    <tr>\n",
       "      <th>ID</th>\n",
       "      <th></th>\n",
       "      <th></th>\n",
       "      <th></th>\n",
       "      <th></th>\n",
       "      <th></th>\n",
       "      <th></th>\n",
       "      <th></th>\n",
       "      <th></th>\n",
       "      <th></th>\n",
       "      <th></th>\n",
       "      <th></th>\n",
       "      <th></th>\n",
       "      <th></th>\n",
       "    </tr>\n",
       "  </thead>\n",
       "  <tbody>\n",
       "    <tr>\n",
       "      <th>4071</th>\n",
       "      <td>58.0</td>\n",
       "      <td>33.0</td>\n",
       "      <td>70.0</td>\n",
       "      <td>94720.0</td>\n",
       "      <td>4.0</td>\n",
       "      <td>0.70</td>\n",
       "      <td>0.0</td>\n",
       "      <td>0</td>\n",
       "      <td>0</td>\n",
       "      <td>1</td>\n",
       "      <td>0</td>\n",
       "      <td>0</td>\n",
       "      <td>0</td>\n",
       "    </tr>\n",
       "    <tr>\n",
       "      <th>4535</th>\n",
       "      <td>41.0</td>\n",
       "      <td>17.0</td>\n",
       "      <td>83.0</td>\n",
       "      <td>94025.0</td>\n",
       "      <td>4.0</td>\n",
       "      <td>2.67</td>\n",
       "      <td>0.0</td>\n",
       "      <td>0</td>\n",
       "      <td>0</td>\n",
       "      <td>0</td>\n",
       "      <td>0</td>\n",
       "      <td>1</td>\n",
       "      <td>0</td>\n",
       "    </tr>\n",
       "    <tr>\n",
       "      <th>2260</th>\n",
       "      <td>24.0</td>\n",
       "      <td>0.0</td>\n",
       "      <td>82.0</td>\n",
       "      <td>90401.0</td>\n",
       "      <td>3.0</td>\n",
       "      <td>0.80</td>\n",
       "      <td>0.0</td>\n",
       "      <td>0</td>\n",
       "      <td>0</td>\n",
       "      <td>0</td>\n",
       "      <td>0</td>\n",
       "      <td>1</td>\n",
       "      <td>0</td>\n",
       "    </tr>\n",
       "    <tr>\n",
       "      <th>4523</th>\n",
       "      <td>31.0</td>\n",
       "      <td>5.0</td>\n",
       "      <td>29.0</td>\n",
       "      <td>90630.0</td>\n",
       "      <td>1.0</td>\n",
       "      <td>0.30</td>\n",
       "      <td>0.0</td>\n",
       "      <td>0</td>\n",
       "      <td>0</td>\n",
       "      <td>0</td>\n",
       "      <td>0</td>\n",
       "      <td>0</td>\n",
       "      <td>0</td>\n",
       "    </tr>\n",
       "    <tr>\n",
       "      <th>4824</th>\n",
       "      <td>46.0</td>\n",
       "      <td>21.0</td>\n",
       "      <td>115.0</td>\n",
       "      <td>95616.0</td>\n",
       "      <td>2.0</td>\n",
       "      <td>4.20</td>\n",
       "      <td>0.0</td>\n",
       "      <td>0</td>\n",
       "      <td>1</td>\n",
       "      <td>1</td>\n",
       "      <td>1</td>\n",
       "      <td>1</td>\n",
       "      <td>1</td>\n",
       "    </tr>\n",
       "  </tbody>\n",
       "</table>\n",
       "</div>"
      ],
      "text/plain": [
       "       Age  Experience  Income  ZIP Code  Family  CCAvg  Mortgage  \\\n",
       "ID                                                                  \n",
       "4071  58.0        33.0    70.0   94720.0     4.0   0.70       0.0   \n",
       "4535  41.0        17.0    83.0   94025.0     4.0   2.67       0.0   \n",
       "2260  24.0         0.0    82.0   90401.0     3.0   0.80       0.0   \n",
       "4523  31.0         5.0    29.0   90630.0     1.0   0.30       0.0   \n",
       "4824  46.0        21.0   115.0   95616.0     2.0   4.20       0.0   \n",
       "\n",
       "      Education_2.0  Education_3.0  Securities Account_1.0  CD Account_1.0  \\\n",
       "ID                                                                           \n",
       "4071              0              0                       1               0   \n",
       "4535              0              0                       0               0   \n",
       "2260              0              0                       0               0   \n",
       "4523              0              0                       0               0   \n",
       "4824              0              1                       1               1   \n",
       "\n",
       "      Online_1.0  CreditCard_1.0  \n",
       "ID                                \n",
       "4071           0               0  \n",
       "4535           1               0  \n",
       "2260           1               0  \n",
       "4523           0               0  \n",
       "4824           1               1  "
      ]
     },
     "execution_count": 26,
     "metadata": {},
     "output_type": "execute_result"
    }
   ],
   "source": [
    "X_train = preprocess_data(X_train)\n",
    "X_train.head()"
   ]
  },
  {
   "cell_type": "code",
   "execution_count": 27,
   "metadata": {},
   "outputs": [
    {
     "data": {
      "text/plain": [
       "Age                       float64\n",
       "Experience                float64\n",
       "Income                    float64\n",
       "ZIP Code                  float64\n",
       "Family                    float64\n",
       "CCAvg                     float64\n",
       "Mortgage                  float64\n",
       "Education_2.0               uint8\n",
       "Education_3.0               uint8\n",
       "Securities Account_1.0      uint8\n",
       "CD Account_1.0              uint8\n",
       "Online_1.0                  uint8\n",
       "CreditCard_1.0              uint8\n",
       "dtype: object"
      ]
     },
     "execution_count": 27,
     "metadata": {},
     "output_type": "execute_result"
    }
   ],
   "source": [
    "X_train.dtypes"
   ]
  },
  {
   "cell_type": "code",
   "execution_count": 28,
   "metadata": {
    "ExecuteTime": {
     "end_time": "2019-10-20T11:25:45.265174Z",
     "start_time": "2019-10-20T11:25:44.397727Z"
    }
   },
   "outputs": [
    {
     "data": {
      "text/html": [
       "<div>\n",
       "<style scoped>\n",
       "    .dataframe tbody tr th:only-of-type {\n",
       "        vertical-align: middle;\n",
       "    }\n",
       "\n",
       "    .dataframe tbody tr th {\n",
       "        vertical-align: top;\n",
       "    }\n",
       "\n",
       "    .dataframe thead th {\n",
       "        text-align: right;\n",
       "    }\n",
       "</style>\n",
       "<table border=\"1\" class=\"dataframe\">\n",
       "  <thead>\n",
       "    <tr style=\"text-align: right;\">\n",
       "      <th></th>\n",
       "      <th>Age</th>\n",
       "      <th>Experience</th>\n",
       "      <th>Income</th>\n",
       "      <th>ZIP Code</th>\n",
       "      <th>Family</th>\n",
       "      <th>CCAvg</th>\n",
       "      <th>Mortgage</th>\n",
       "      <th>Education_2.0</th>\n",
       "      <th>Education_3.0</th>\n",
       "      <th>Securities Account_1.0</th>\n",
       "      <th>CD Account_1.0</th>\n",
       "      <th>Online_1.0</th>\n",
       "      <th>CreditCard_1.0</th>\n",
       "    </tr>\n",
       "    <tr>\n",
       "      <th>ID</th>\n",
       "      <th></th>\n",
       "      <th></th>\n",
       "      <th></th>\n",
       "      <th></th>\n",
       "      <th></th>\n",
       "      <th></th>\n",
       "      <th></th>\n",
       "      <th></th>\n",
       "      <th></th>\n",
       "      <th></th>\n",
       "      <th></th>\n",
       "      <th></th>\n",
       "      <th></th>\n",
       "    </tr>\n",
       "  </thead>\n",
       "  <tbody>\n",
       "    <tr>\n",
       "      <th>2796</th>\n",
       "      <td>51.0</td>\n",
       "      <td>25.0</td>\n",
       "      <td>91.0</td>\n",
       "      <td>92407.0</td>\n",
       "      <td>1.0</td>\n",
       "      <td>0.8</td>\n",
       "      <td>0.0</td>\n",
       "      <td>0</td>\n",
       "      <td>1</td>\n",
       "      <td>0</td>\n",
       "      <td>0</td>\n",
       "      <td>0</td>\n",
       "      <td>0</td>\n",
       "    </tr>\n",
       "    <tr>\n",
       "      <th>1717</th>\n",
       "      <td>32.0</td>\n",
       "      <td>8.0</td>\n",
       "      <td>200.0</td>\n",
       "      <td>91330.0</td>\n",
       "      <td>2.0</td>\n",
       "      <td>6.5</td>\n",
       "      <td>565.0</td>\n",
       "      <td>0</td>\n",
       "      <td>0</td>\n",
       "      <td>0</td>\n",
       "      <td>0</td>\n",
       "      <td>1</td>\n",
       "      <td>0</td>\n",
       "    </tr>\n",
       "    <tr>\n",
       "      <th>409</th>\n",
       "      <td>60.0</td>\n",
       "      <td>36.0</td>\n",
       "      <td>89.0</td>\n",
       "      <td>91745.0</td>\n",
       "      <td>2.0</td>\n",
       "      <td>2.8</td>\n",
       "      <td>0.0</td>\n",
       "      <td>0</td>\n",
       "      <td>0</td>\n",
       "      <td>0</td>\n",
       "      <td>0</td>\n",
       "      <td>1</td>\n",
       "      <td>0</td>\n",
       "    </tr>\n",
       "    <tr>\n",
       "      <th>3758</th>\n",
       "      <td>45.0</td>\n",
       "      <td>21.0</td>\n",
       "      <td>142.0</td>\n",
       "      <td>91101.0</td>\n",
       "      <td>1.0</td>\n",
       "      <td>1.4</td>\n",
       "      <td>0.0</td>\n",
       "      <td>1</td>\n",
       "      <td>0</td>\n",
       "      <td>0</td>\n",
       "      <td>0</td>\n",
       "      <td>1</td>\n",
       "      <td>0</td>\n",
       "    </tr>\n",
       "    <tr>\n",
       "      <th>271</th>\n",
       "      <td>60.0</td>\n",
       "      <td>36.0</td>\n",
       "      <td>63.0</td>\n",
       "      <td>94063.0</td>\n",
       "      <td>4.0</td>\n",
       "      <td>2.2</td>\n",
       "      <td>0.0</td>\n",
       "      <td>0</td>\n",
       "      <td>0</td>\n",
       "      <td>0</td>\n",
       "      <td>0</td>\n",
       "      <td>1</td>\n",
       "      <td>0</td>\n",
       "    </tr>\n",
       "  </tbody>\n",
       "</table>\n",
       "</div>"
      ],
      "text/plain": [
       "       Age  Experience  Income  ZIP Code  Family  CCAvg  Mortgage  \\\n",
       "ID                                                                  \n",
       "2796  51.0        25.0    91.0   92407.0     1.0    0.8       0.0   \n",
       "1717  32.0         8.0   200.0   91330.0     2.0    6.5     565.0   \n",
       "409   60.0        36.0    89.0   91745.0     2.0    2.8       0.0   \n",
       "3758  45.0        21.0   142.0   91101.0     1.0    1.4       0.0   \n",
       "271   60.0        36.0    63.0   94063.0     4.0    2.2       0.0   \n",
       "\n",
       "      Education_2.0  Education_3.0  Securities Account_1.0  CD Account_1.0  \\\n",
       "ID                                                                           \n",
       "2796              0              1                       0               0   \n",
       "1717              0              0                       0               0   \n",
       "409               0              0                       0               0   \n",
       "3758              1              0                       0               0   \n",
       "271               0              0                       0               0   \n",
       "\n",
       "      Online_1.0  CreditCard_1.0  \n",
       "ID                                \n",
       "2796           0               0  \n",
       "1717           1               0  \n",
       "409            1               0  \n",
       "3758           1               0  \n",
       "271            1               0  "
      ]
     },
     "execution_count": 28,
     "metadata": {},
     "output_type": "execute_result"
    }
   ],
   "source": [
    "X_test = preprocess_data(X_test)\n",
    "X_test.head()"
   ]
  },
  {
   "cell_type": "markdown",
   "metadata": {},
   "source": [
    "## Build Knn Model\n",
    "\n",
    "___"
   ]
  },
  {
   "cell_type": "markdown",
   "metadata": {},
   "source": [
    "### Function for Model Fit & Predict\n",
    "\n",
    "We will write a function for following functions. \n",
    "\n",
    "- Fit the model on train data\n",
    "- Perform cross-validation when needed\n",
    "- Predict on train and test data"
   ]
  },
  {
   "cell_type": "code",
   "execution_count": 29,
   "metadata": {
    "ExecuteTime": {
     "end_time": "2019-10-20T11:25:45.279788Z",
     "start_time": "2019-10-20T11:25:45.268727Z"
    }
   },
   "outputs": [],
   "source": [
    "from sklearn.model_selection import GridSearchCV\n",
    "\n",
    "def model_building(model, params = None, k = 1) :\n",
    "    \n",
    "    if params == None :\n",
    "        model.fit(X_train, y_train)\n",
    "        \n",
    "        # return fitted model & train-test predictions\n",
    "        return (model, model.predict(X_train), model.predict(X_test))\n",
    "    \n",
    "    else :\n",
    "        model_cv = GridSearchCV(model, param_grid = params, cv = k)\n",
    "        model_cv.fit(X_train, y_train)\n",
    "        model = model_cv.best_estimator_\n",
    "        \n",
    "        # return and extra object for all cross validation operations\n",
    "        return (model_cv, model, model.predict(X_train), model.predict(X_test))"
   ]
  },
  {
   "cell_type": "code",
   "execution_count": 30,
   "metadata": {
    "ExecuteTime": {
     "end_time": "2019-10-20T11:25:45.970085Z",
     "start_time": "2019-10-20T11:25:45.283929Z"
    },
    "scrolled": true
   },
   "outputs": [],
   "source": [
    "from sklearn.neighbors import KNeighborsClassifier\n",
    "\n",
    "knn = KNeighborsClassifier(algorithm = 'brute', n_neighbors = 3,\n",
    "                           metric = \"euclidean\")\n",
    "\n",
    "model, pred_train, pred_test = model_building(knn)"
   ]
  },
  {
   "cell_type": "markdown",
   "metadata": {},
   "source": [
    "### Function to Evaluate Model"
   ]
  },
  {
   "cell_type": "code",
   "execution_count": 31,
   "metadata": {
    "ExecuteTime": {
     "end_time": "2019-10-20T11:25:45.979623Z",
     "start_time": "2019-10-20T11:25:45.972226Z"
    }
   },
   "outputs": [],
   "source": [
    "from sklearn.metrics import confusion_matrix \n",
    "from sklearn.metrics import accuracy_score \n",
    "from sklearn.metrics import classification_report "
   ]
  },
  {
   "cell_type": "code",
   "execution_count": 32,
   "metadata": {},
   "outputs": [],
   "source": [
    "def model_evaluation(actuals, predictions, report = True) :\n",
    "    \n",
    "    print('\\nConfusion Matrix :')\n",
    "    print(confusion_matrix(actuals, predictions) ) \n",
    "    \n",
    "    if report == True :\n",
    "        print('\\nReport : ')\n",
    "        print(classification_report(actuals, predictions))\n",
    "    \n",
    "    print('\\nAccuracy Score :', accuracy_score(actuals, predictions)) \n",
    "    print(\"------------------------------------------------------------------\")"
   ]
  },
  {
   "cell_type": "code",
   "execution_count": 33,
   "metadata": {},
   "outputs": [
    {
     "name": "stdout",
     "output_type": "stream",
     "text": [
      "\n",
      "Confusion Matrix :\n",
      "[[3547   67]\n",
      " [ 178  208]]\n",
      "\n",
      "Report : \n",
      "              precision    recall  f1-score   support\n",
      "\n",
      "           0       0.95      0.98      0.97      3614\n",
      "           1       0.76      0.54      0.63       386\n",
      "\n",
      "    accuracy                           0.94      4000\n",
      "   macro avg       0.85      0.76      0.80      4000\n",
      "weighted avg       0.93      0.94      0.93      4000\n",
      "\n",
      "\n",
      "Accuracy Score : 0.93875\n",
      "------------------------------------------------------------------\n",
      "\n",
      "Confusion Matrix :\n",
      "[[869  37]\n",
      " [ 65  29]]\n",
      "\n",
      "Report : \n",
      "              precision    recall  f1-score   support\n",
      "\n",
      "           0       0.93      0.96      0.94       906\n",
      "           1       0.44      0.31      0.36        94\n",
      "\n",
      "    accuracy                           0.90      1000\n",
      "   macro avg       0.68      0.63      0.65      1000\n",
      "weighted avg       0.88      0.90      0.89      1000\n",
      "\n",
      "\n",
      "Accuracy Score : 0.898\n",
      "------------------------------------------------------------------\n"
     ]
    }
   ],
   "source": [
    "model_evaluation(y_train, pred_train,report=True)\n",
    "\n",
    "model_evaluation(y_test, pred_test)"
   ]
  },
  {
   "cell_type": "code",
   "execution_count": 34,
   "metadata": {
    "ExecuteTime": {
     "end_time": "2019-10-20T11:25:45.988289Z",
     "start_time": "2019-10-20T11:25:45.982721Z"
    }
   },
   "outputs": [],
   "source": [
    "def model_evaluation(actuals, predictions, report = False) :\n",
    "    \n",
    "    print('\\nConfusion Matrix :')\n",
    "    print(confusion_matrix(actuals, predictions) ) \n",
    "    \n",
    "    if report == True :\n",
    "        print('\\nReport : ')\n",
    "        print(classification_report(actuals, predictions))\n",
    "    \n",
    "    print('\\nAccuracy Score :', accuracy_score(actuals, predictions)) \n",
    "    print(\"------------------------------------------------------------------\")"
   ]
  },
  {
   "cell_type": "code",
   "execution_count": 35,
   "metadata": {
    "ExecuteTime": {
     "end_time": "2019-10-20T11:25:46.013522Z",
     "start_time": "2019-10-20T11:25:45.991930Z"
    },
    "scrolled": true
   },
   "outputs": [
    {
     "name": "stdout",
     "output_type": "stream",
     "text": [
      "\n",
      "Confusion Matrix :\n",
      "[[3547   67]\n",
      " [ 178  208]]\n",
      "\n",
      "Accuracy Score : 0.93875\n",
      "------------------------------------------------------------------\n",
      "\n",
      "Confusion Matrix :\n",
      "[[869  37]\n",
      " [ 65  29]]\n",
      "\n",
      "Accuracy Score : 0.898\n",
      "------------------------------------------------------------------\n"
     ]
    }
   ],
   "source": [
    "model_evaluation(y_train, pred_train,report=False)\n",
    "\n",
    "model_evaluation(y_test, pred_test)"
   ]
  },
  {
   "cell_type": "markdown",
   "metadata": {},
   "source": [
    "Knn is heavily impacted by standardisation. We have seen the result without standardising the data. Let us now see the result after standardisation."
   ]
  },
  {
   "cell_type": "code",
   "execution_count": 36,
   "metadata": {
    "ExecuteTime": {
     "end_time": "2019-10-20T11:25:46.039504Z",
     "start_time": "2019-10-20T11:25:46.016860Z"
    }
   },
   "outputs": [],
   "source": [
    "X_train, X_test, y_train, y_test = prepare_data(X, y, 0.2)"
   ]
  },
  {
   "cell_type": "code",
   "execution_count": 37,
   "metadata": {
    "ExecuteTime": {
     "end_time": "2019-10-20T11:25:47.012717Z",
     "start_time": "2019-10-20T11:25:46.042822Z"
    }
   },
   "outputs": [
    {
     "data": {
      "text/html": [
       "<div>\n",
       "<style scoped>\n",
       "    .dataframe tbody tr th:only-of-type {\n",
       "        vertical-align: middle;\n",
       "    }\n",
       "\n",
       "    .dataframe tbody tr th {\n",
       "        vertical-align: top;\n",
       "    }\n",
       "\n",
       "    .dataframe thead th {\n",
       "        text-align: right;\n",
       "    }\n",
       "</style>\n",
       "<table border=\"1\" class=\"dataframe\">\n",
       "  <thead>\n",
       "    <tr style=\"text-align: right;\">\n",
       "      <th></th>\n",
       "      <th>Age</th>\n",
       "      <th>Experience</th>\n",
       "      <th>Income</th>\n",
       "      <th>ZIP Code</th>\n",
       "      <th>Family</th>\n",
       "      <th>CCAvg</th>\n",
       "      <th>Mortgage</th>\n",
       "      <th>Education_2.0</th>\n",
       "      <th>Education_3.0</th>\n",
       "      <th>Securities Account_1.0</th>\n",
       "      <th>CD Account_1.0</th>\n",
       "      <th>Online_1.0</th>\n",
       "      <th>CreditCard_1.0</th>\n",
       "    </tr>\n",
       "    <tr>\n",
       "      <th>ID</th>\n",
       "      <th></th>\n",
       "      <th></th>\n",
       "      <th></th>\n",
       "      <th></th>\n",
       "      <th></th>\n",
       "      <th></th>\n",
       "      <th></th>\n",
       "      <th></th>\n",
       "      <th></th>\n",
       "      <th></th>\n",
       "      <th></th>\n",
       "      <th></th>\n",
       "      <th></th>\n",
       "    </tr>\n",
       "  </thead>\n",
       "  <tbody>\n",
       "    <tr>\n",
       "      <th>2514</th>\n",
       "      <td>0.587479</td>\n",
       "      <td>0.520916</td>\n",
       "      <td>-0.064294</td>\n",
       "      <td>-0.647196</td>\n",
       "      <td>-1.216637</td>\n",
       "      <td>-0.310423</td>\n",
       "      <td>-0.551077</td>\n",
       "      <td>0</td>\n",
       "      <td>1</td>\n",
       "      <td>0</td>\n",
       "      <td>0</td>\n",
       "      <td>0</td>\n",
       "      <td>0</td>\n",
       "    </tr>\n",
       "    <tr>\n",
       "      <th>656</th>\n",
       "      <td>0.412373</td>\n",
       "      <td>0.433326</td>\n",
       "      <td>-1.331807</td>\n",
       "      <td>-1.174734</td>\n",
       "      <td>-0.345900</td>\n",
       "      <td>-0.709237</td>\n",
       "      <td>-0.551077</td>\n",
       "      <td>0</td>\n",
       "      <td>1</td>\n",
       "      <td>0</td>\n",
       "      <td>0</td>\n",
       "      <td>0</td>\n",
       "      <td>0</td>\n",
       "    </tr>\n",
       "    <tr>\n",
       "      <th>2046</th>\n",
       "      <td>0.587479</td>\n",
       "      <td>0.696094</td>\n",
       "      <td>-0.654343</td>\n",
       "      <td>1.066163</td>\n",
       "      <td>1.395574</td>\n",
       "      <td>-0.595290</td>\n",
       "      <td>0.505327</td>\n",
       "      <td>1</td>\n",
       "      <td>0</td>\n",
       "      <td>0</td>\n",
       "      <td>0</td>\n",
       "      <td>1</td>\n",
       "      <td>0</td>\n",
       "    </tr>\n",
       "    <tr>\n",
       "      <th>4707</th>\n",
       "      <td>1.287901</td>\n",
       "      <td>1.396809</td>\n",
       "      <td>-1.441076</td>\n",
       "      <td>-0.312369</td>\n",
       "      <td>-0.345900</td>\n",
       "      <td>-0.538317</td>\n",
       "      <td>-0.551077</td>\n",
       "      <td>0</td>\n",
       "      <td>0</td>\n",
       "      <td>0</td>\n",
       "      <td>0</td>\n",
       "      <td>0</td>\n",
       "      <td>0</td>\n",
       "    </tr>\n",
       "    <tr>\n",
       "      <th>3417</th>\n",
       "      <td>1.375454</td>\n",
       "      <td>1.484398</td>\n",
       "      <td>-0.260977</td>\n",
       "      <td>0.531804</td>\n",
       "      <td>-1.216637</td>\n",
       "      <td>-1.108051</td>\n",
       "      <td>1.857918</td>\n",
       "      <td>1</td>\n",
       "      <td>0</td>\n",
       "      <td>0</td>\n",
       "      <td>0</td>\n",
       "      <td>1</td>\n",
       "      <td>0</td>\n",
       "    </tr>\n",
       "  </tbody>\n",
       "</table>\n",
       "</div>"
      ],
      "text/plain": [
       "           Age  Experience    Income  ZIP Code    Family     CCAvg  Mortgage  \\\n",
       "ID                                                                             \n",
       "2514  0.587479    0.520916 -0.064294 -0.647196 -1.216637 -0.310423 -0.551077   \n",
       "656   0.412373    0.433326 -1.331807 -1.174734 -0.345900 -0.709237 -0.551077   \n",
       "2046  0.587479    0.696094 -0.654343  1.066163  1.395574 -0.595290  0.505327   \n",
       "4707  1.287901    1.396809 -1.441076 -0.312369 -0.345900 -0.538317 -0.551077   \n",
       "3417  1.375454    1.484398 -0.260977  0.531804 -1.216637 -1.108051  1.857918   \n",
       "\n",
       "      Education_2.0  Education_3.0  Securities Account_1.0  CD Account_1.0  \\\n",
       "ID                                                                           \n",
       "2514              0              1                       0               0   \n",
       "656               0              1                       0               0   \n",
       "2046              1              0                       0               0   \n",
       "4707              0              0                       0               0   \n",
       "3417              1              0                       0               0   \n",
       "\n",
       "      Online_1.0  CreditCard_1.0  \n",
       "ID                                \n",
       "2514           0               0  \n",
       "656            0               0  \n",
       "2046           1               0  \n",
       "4707           0               0  \n",
       "3417           1               0  "
      ]
     },
     "execution_count": 37,
     "metadata": {},
     "output_type": "execute_result"
    }
   ],
   "source": [
    "X_train = preprocess_data(X_train,scale= True)\n",
    "X_train.head()"
   ]
  },
  {
   "cell_type": "code",
   "execution_count": 38,
   "metadata": {
    "ExecuteTime": {
     "end_time": "2019-10-20T11:25:47.974050Z",
     "start_time": "2019-10-20T11:25:47.015285Z"
    }
   },
   "outputs": [
    {
     "data": {
      "text/html": [
       "<div>\n",
       "<style scoped>\n",
       "    .dataframe tbody tr th:only-of-type {\n",
       "        vertical-align: middle;\n",
       "    }\n",
       "\n",
       "    .dataframe tbody tr th {\n",
       "        vertical-align: top;\n",
       "    }\n",
       "\n",
       "    .dataframe thead th {\n",
       "        text-align: right;\n",
       "    }\n",
       "</style>\n",
       "<table border=\"1\" class=\"dataframe\">\n",
       "  <thead>\n",
       "    <tr style=\"text-align: right;\">\n",
       "      <th></th>\n",
       "      <th>Age</th>\n",
       "      <th>Experience</th>\n",
       "      <th>Income</th>\n",
       "      <th>ZIP Code</th>\n",
       "      <th>Family</th>\n",
       "      <th>CCAvg</th>\n",
       "      <th>Mortgage</th>\n",
       "      <th>Education_2.0</th>\n",
       "      <th>Education_3.0</th>\n",
       "      <th>Securities Account_1.0</th>\n",
       "      <th>CD Account_1.0</th>\n",
       "      <th>Online_1.0</th>\n",
       "      <th>CreditCard_1.0</th>\n",
       "    </tr>\n",
       "    <tr>\n",
       "      <th>ID</th>\n",
       "      <th></th>\n",
       "      <th></th>\n",
       "      <th></th>\n",
       "      <th></th>\n",
       "      <th></th>\n",
       "      <th></th>\n",
       "      <th></th>\n",
       "      <th></th>\n",
       "      <th></th>\n",
       "      <th></th>\n",
       "      <th></th>\n",
       "      <th></th>\n",
       "      <th></th>\n",
       "    </tr>\n",
       "  </thead>\n",
       "  <tbody>\n",
       "    <tr>\n",
       "      <th>4188</th>\n",
       "      <td>-1.338682</td>\n",
       "      <td>-1.318460</td>\n",
       "      <td>0.766147</td>\n",
       "      <td>0.642087</td>\n",
       "      <td>1.395574</td>\n",
       "      <td>0.145365</td>\n",
       "      <td>0.465835</td>\n",
       "      <td>1</td>\n",
       "      <td>0</td>\n",
       "      <td>0</td>\n",
       "      <td>0</td>\n",
       "      <td>0</td>\n",
       "      <td>1</td>\n",
       "    </tr>\n",
       "    <tr>\n",
       "      <th>1675</th>\n",
       "      <td>-0.725812</td>\n",
       "      <td>-0.792924</td>\n",
       "      <td>1.421757</td>\n",
       "      <td>1.499904</td>\n",
       "      <td>-0.345900</td>\n",
       "      <td>-0.652263</td>\n",
       "      <td>3.605427</td>\n",
       "      <td>1</td>\n",
       "      <td>0</td>\n",
       "      <td>0</td>\n",
       "      <td>0</td>\n",
       "      <td>1</td>\n",
       "      <td>0</td>\n",
       "    </tr>\n",
       "    <tr>\n",
       "      <th>4480</th>\n",
       "      <td>-1.163576</td>\n",
       "      <td>-1.055692</td>\n",
       "      <td>1.181367</td>\n",
       "      <td>-0.033252</td>\n",
       "      <td>-0.345900</td>\n",
       "      <td>1.358900</td>\n",
       "      <td>-0.551077</td>\n",
       "      <td>0</td>\n",
       "      <td>0</td>\n",
       "      <td>0</td>\n",
       "      <td>0</td>\n",
       "      <td>1</td>\n",
       "      <td>0</td>\n",
       "    </tr>\n",
       "    <tr>\n",
       "      <th>1774</th>\n",
       "      <td>-1.251129</td>\n",
       "      <td>-1.318460</td>\n",
       "      <td>-1.004002</td>\n",
       "      <td>-0.647196</td>\n",
       "      <td>1.395574</td>\n",
       "      <td>-0.652263</td>\n",
       "      <td>-0.551077</td>\n",
       "      <td>0</td>\n",
       "      <td>0</td>\n",
       "      <td>0</td>\n",
       "      <td>0</td>\n",
       "      <td>0</td>\n",
       "      <td>0</td>\n",
       "    </tr>\n",
       "    <tr>\n",
       "      <th>744</th>\n",
       "      <td>1.375454</td>\n",
       "      <td>1.484398</td>\n",
       "      <td>-0.741758</td>\n",
       "      <td>0.775108</td>\n",
       "      <td>1.395574</td>\n",
       "      <td>0.145365</td>\n",
       "      <td>-0.551077</td>\n",
       "      <td>0</td>\n",
       "      <td>0</td>\n",
       "      <td>1</td>\n",
       "      <td>1</td>\n",
       "      <td>1</td>\n",
       "      <td>1</td>\n",
       "    </tr>\n",
       "  </tbody>\n",
       "</table>\n",
       "</div>"
      ],
      "text/plain": [
       "           Age  Experience    Income  ZIP Code    Family     CCAvg  Mortgage  \\\n",
       "ID                                                                             \n",
       "4188 -1.338682   -1.318460  0.766147  0.642087  1.395574  0.145365  0.465835   \n",
       "1675 -0.725812   -0.792924  1.421757  1.499904 -0.345900 -0.652263  3.605427   \n",
       "4480 -1.163576   -1.055692  1.181367 -0.033252 -0.345900  1.358900 -0.551077   \n",
       "1774 -1.251129   -1.318460 -1.004002 -0.647196  1.395574 -0.652263 -0.551077   \n",
       "744   1.375454    1.484398 -0.741758  0.775108  1.395574  0.145365 -0.551077   \n",
       "\n",
       "      Education_2.0  Education_3.0  Securities Account_1.0  CD Account_1.0  \\\n",
       "ID                                                                           \n",
       "4188              1              0                       0               0   \n",
       "1675              1              0                       0               0   \n",
       "4480              0              0                       0               0   \n",
       "1774              0              0                       0               0   \n",
       "744               0              0                       1               1   \n",
       "\n",
       "      Online_1.0  CreditCard_1.0  \n",
       "ID                                \n",
       "4188           0               1  \n",
       "1675           1               0  \n",
       "4480           1               0  \n",
       "1774           0               0  \n",
       "744            1               1  "
      ]
     },
     "execution_count": 38,
     "metadata": {},
     "output_type": "execute_result"
    }
   ],
   "source": [
    "X_test = preprocess_data(X_test, scale=True)\n",
    "X_test.head()"
   ]
  },
  {
   "cell_type": "markdown",
   "metadata": {},
   "source": [
    "## Build Knn Model"
   ]
  },
  {
   "cell_type": "code",
   "execution_count": 39,
   "metadata": {
    "ExecuteTime": {
     "end_time": "2019-10-20T11:25:48.706897Z",
     "start_time": "2019-10-20T11:25:47.980088Z"
    }
   },
   "outputs": [],
   "source": [
    "knn_2 = KNeighborsClassifier(algorithm = 'brute', n_neighbors = 5, metric = \"euclidean\")\n",
    "\n",
    "model_2, pred_train_2, pred_test_2 = model_building(knn_2)"
   ]
  },
  {
   "cell_type": "code",
   "execution_count": 40,
   "metadata": {
    "ExecuteTime": {
     "end_time": "2019-10-20T11:25:48.724998Z",
     "start_time": "2019-10-20T11:25:48.709023Z"
    }
   },
   "outputs": [
    {
     "name": "stdout",
     "output_type": "stream",
     "text": [
      "\n",
      "Confusion Matrix :\n",
      "[[3608    3]\n",
      " [ 159  230]]\n",
      "\n",
      "Accuracy Score : 0.9595\n",
      "------------------------------------------------------------------\n",
      "\n",
      "Confusion Matrix :\n",
      "[[908   1]\n",
      " [ 50  41]]\n",
      "\n",
      "Accuracy Score : 0.949\n",
      "------------------------------------------------------------------\n"
     ]
    }
   ],
   "source": [
    "model_evaluation(y_train, pred_train_2)\n",
    "\n",
    "model_evaluation(y_test, pred_test_2)"
   ]
  },
  {
   "cell_type": "markdown",
   "metadata": {},
   "source": [
    "> We can see that simply by standardising the data our test accuracy increased by approximately 5%."
   ]
  },
  {
   "cell_type": "markdown",
   "metadata": {},
   "source": [
    "### Edited Knn\n",
    "\n",
    "___\n",
    "\n",
    "Implementation based on Wilson's editing technique.\n",
    "\n",
    "This removes the outlier points in Knn. \n",
    "\n",
    "> Outlier in Knn is a point which has a different target w.r.t. other similar points."
   ]
  },
  {
   "cell_type": "code",
   "execution_count": 41,
   "metadata": {
    "ExecuteTime": {
     "end_time": "2019-10-20T11:25:48.733398Z",
     "start_time": "2019-10-20T11:25:48.727713Z"
    }
   },
   "outputs": [
    {
     "name": "stdout",
     "output_type": "stream",
     "text": [
      "Requirement already satisfied: imblearn in c:\\users\\siddhi golatkar\\appdata\\roaming\\python\\python37\\site-packages (0.0)\n",
      "Requirement already satisfied: imbalanced-learn in c:\\users\\siddhi golatkar\\appdata\\roaming\\python\\python37\\site-packages (from imblearn) (0.6.2)\n",
      "Requirement already satisfied: numpy>=1.11 in d:\\anaconda\\lib\\site-packages (from imbalanced-learn->imblearn) (1.18.1)\n",
      "Requirement already satisfied: scikit-learn>=0.22 in d:\\anaconda\\lib\\site-packages (from imbalanced-learn->imblearn) (0.22.1)\n",
      "Requirement already satisfied: scipy>=0.17 in d:\\anaconda\\lib\\site-packages (from imbalanced-learn->imblearn) (1.4.1)\n",
      "Requirement already satisfied: joblib>=0.11 in d:\\anaconda\\lib\\site-packages (from imbalanced-learn->imblearn) (0.14.1)\n",
      "Requirement already satisfied: Tensorflow in d:\\anaconda\\lib\\site-packages (2.2.0)\n",
      "Requirement already satisfied: tensorboard<2.3.0,>=2.2.0 in d:\\anaconda\\lib\\site-packages (from Tensorflow) (2.2.2)\n",
      "Requirement already satisfied: six>=1.12.0 in d:\\anaconda\\lib\\site-packages (from Tensorflow) (1.14.0)\n",
      "Requirement already satisfied: numpy<2.0,>=1.16.0 in d:\\anaconda\\lib\\site-packages (from Tensorflow) (1.18.1)\n",
      "Requirement already satisfied: wrapt>=1.11.1 in d:\\anaconda\\lib\\site-packages (from Tensorflow) (1.11.2)\n",
      "Requirement already satisfied: scipy==1.4.1; python_version >= \"3\" in d:\\anaconda\\lib\\site-packages (from Tensorflow) (1.4.1)\n",
      "Requirement already satisfied: keras-preprocessing>=1.1.0 in d:\\anaconda\\lib\\site-packages (from Tensorflow) (1.1.2)\n",
      "Requirement already satisfied: tensorflow-estimator<2.3.0,>=2.2.0 in d:\\anaconda\\lib\\site-packages (from Tensorflow) (2.2.0)\n",
      "Requirement already satisfied: grpcio>=1.8.6 in d:\\anaconda\\lib\\site-packages (from Tensorflow) (1.30.0)\n",
      "Requirement already satisfied: protobuf>=3.8.0 in d:\\anaconda\\lib\\site-packages (from Tensorflow) (3.12.2)\n",
      "Requirement already satisfied: h5py<2.11.0,>=2.10.0 in d:\\anaconda\\lib\\site-packages (from Tensorflow) (2.10.0)\n",
      "Requirement already satisfied: wheel>=0.26; python_version >= \"3\" in d:\\anaconda\\lib\\site-packages (from Tensorflow) (0.34.2)\n",
      "Requirement already satisfied: astunparse==1.6.3 in d:\\anaconda\\lib\\site-packages (from Tensorflow) (1.6.3)\n",
      "Requirement already satisfied: opt-einsum>=2.3.2 in d:\\anaconda\\lib\\site-packages (from Tensorflow) (3.2.1)\n",
      "Requirement already satisfied: termcolor>=1.1.0 in d:\\anaconda\\lib\\site-packages (from Tensorflow) (1.1.0)\n",
      "Requirement already satisfied: google-pasta>=0.1.8 in d:\\anaconda\\lib\\site-packages (from Tensorflow) (0.2.0)\n",
      "Requirement already satisfied: absl-py>=0.7.0 in d:\\anaconda\\lib\\site-packages (from Tensorflow) (0.9.0)\n",
      "Requirement already satisfied: gast==0.3.3 in d:\\anaconda\\lib\\site-packages (from Tensorflow) (0.3.3)\n",
      "Requirement already satisfied: tensorboard-plugin-wit>=1.6.0 in d:\\anaconda\\lib\\site-packages (from tensorboard<2.3.0,>=2.2.0->Tensorflow) (1.7.0)\n",
      "Requirement already satisfied: requests<3,>=2.21.0 in d:\\anaconda\\lib\\site-packages (from tensorboard<2.3.0,>=2.2.0->Tensorflow) (2.22.0)\n",
      "Requirement already satisfied: markdown>=2.6.8 in d:\\anaconda\\lib\\site-packages (from tensorboard<2.3.0,>=2.2.0->Tensorflow) (3.2.2)\n",
      "Requirement already satisfied: google-auth<2,>=1.6.3 in d:\\anaconda\\lib\\site-packages (from tensorboard<2.3.0,>=2.2.0->Tensorflow) (1.18.0)\n",
      "Requirement already satisfied: setuptools>=41.0.0 in d:\\anaconda\\lib\\site-packages (from tensorboard<2.3.0,>=2.2.0->Tensorflow) (45.2.0.post20200210)\n",
      "Requirement already satisfied: werkzeug>=0.11.15 in d:\\anaconda\\lib\\site-packages (from tensorboard<2.3.0,>=2.2.0->Tensorflow) (1.0.0)\n",
      "Requirement already satisfied: google-auth-oauthlib<0.5,>=0.4.1 in d:\\anaconda\\lib\\site-packages (from tensorboard<2.3.0,>=2.2.0->Tensorflow) (0.4.1)\n",
      "Requirement already satisfied: certifi>=2017.4.17 in d:\\anaconda\\lib\\site-packages (from requests<3,>=2.21.0->tensorboard<2.3.0,>=2.2.0->Tensorflow) (2019.11.28)\n",
      "Requirement already satisfied: chardet<3.1.0,>=3.0.2 in d:\\anaconda\\lib\\site-packages (from requests<3,>=2.21.0->tensorboard<2.3.0,>=2.2.0->Tensorflow) (3.0.4)\n",
      "Requirement already satisfied: idna<2.9,>=2.5 in d:\\anaconda\\lib\\site-packages (from requests<3,>=2.21.0->tensorboard<2.3.0,>=2.2.0->Tensorflow) (2.8)\n",
      "Requirement already satisfied: urllib3!=1.25.0,!=1.25.1,<1.26,>=1.21.1 in d:\\anaconda\\lib\\site-packages (from requests<3,>=2.21.0->tensorboard<2.3.0,>=2.2.0->Tensorflow) (1.25.8)\n",
      "Requirement already satisfied: importlib-metadata; python_version < \"3.8\" in d:\\anaconda\\lib\\site-packages (from markdown>=2.6.8->tensorboard<2.3.0,>=2.2.0->Tensorflow) (1.5.0)\n",
      "Requirement already satisfied: pyasn1-modules>=0.2.1 in d:\\anaconda\\lib\\site-packages (from google-auth<2,>=1.6.3->tensorboard<2.3.0,>=2.2.0->Tensorflow) (0.2.8)\n",
      "Requirement already satisfied: cachetools<5.0,>=2.0.0 in d:\\anaconda\\lib\\site-packages (from google-auth<2,>=1.6.3->tensorboard<2.3.0,>=2.2.0->Tensorflow) (4.1.1)\n",
      "Requirement already satisfied: rsa<5,>=3.1.4; python_version >= \"3\" in d:\\anaconda\\lib\\site-packages (from google-auth<2,>=1.6.3->tensorboard<2.3.0,>=2.2.0->Tensorflow) (4.6)\n",
      "Requirement already satisfied: requests-oauthlib>=0.7.0 in d:\\anaconda\\lib\\site-packages (from google-auth-oauthlib<0.5,>=0.4.1->tensorboard<2.3.0,>=2.2.0->Tensorflow) (1.3.0)\n",
      "Requirement already satisfied: zipp>=0.5 in d:\\anaconda\\lib\\site-packages (from importlib-metadata; python_version < \"3.8\"->markdown>=2.6.8->tensorboard<2.3.0,>=2.2.0->Tensorflow) (2.2.0)\n",
      "Requirement already satisfied: pyasn1<0.5.0,>=0.4.6 in d:\\anaconda\\lib\\site-packages (from pyasn1-modules>=0.2.1->google-auth<2,>=1.6.3->tensorboard<2.3.0,>=2.2.0->Tensorflow) (0.4.8)\n",
      "Requirement already satisfied: oauthlib>=3.0.0 in d:\\anaconda\\lib\\site-packages (from requests-oauthlib>=0.7.0->google-auth-oauthlib<0.5,>=0.4.1->tensorboard<2.3.0,>=2.2.0->Tensorflow) (3.1.0)\n"
     ]
    }
   ],
   "source": [
    "!pip install imblearn --user\n",
    "\n",
    "## imblearn uses Tensorflow at the backend.So install Tensorflow using:\n",
    "\n",
    "!pip install Tensorflow"
   ]
  },
  {
   "cell_type": "code",
   "execution_count": 43,
   "metadata": {
    "ExecuteTime": {
     "end_time": "2019-10-20T11:25:50.708141Z",
     "start_time": "2019-10-20T11:25:48.736699Z"
    },
    "scrolled": true
   },
   "outputs": [
    {
     "name": "stdout",
     "output_type": "stream",
     "text": [
      "(3848, 13)\n"
     ]
    }
   ],
   "source": [
    "from imblearn.under_sampling import EditedNearestNeighbours\n",
    "\n",
    "eknn = EditedNearestNeighbours()\n",
    "\n",
    "X_res_eknn, y_res_eknn = eknn.fit_resample(X_train, y_train) \n",
    "\n",
    "print(X_res_eknn.shape)"
   ]
  },
  {
   "cell_type": "markdown",
   "metadata": {},
   "source": [
    "For the given data, around 140 outliers points are removed."
   ]
  },
  {
   "cell_type": "code",
   "execution_count": 44,
   "metadata": {
    "ExecuteTime": {
     "end_time": "2019-10-20T11:25:50.874524Z",
     "start_time": "2019-10-20T11:25:50.710764Z"
    },
    "scrolled": true
   },
   "outputs": [
    {
     "name": "stdout",
     "output_type": "stream",
     "text": [
      "[[905  44]\n",
      " [  4  47]]\n"
     ]
    },
    {
     "data": {
      "text/plain": [
       "0.952"
      ]
     },
     "execution_count": 44,
     "metadata": {},
     "output_type": "execute_result"
    }
   ],
   "source": [
    "# fit the knn classifier on the reduced data\n",
    "eknn = model.fit(X_res_eknn, y_res_eknn)\n",
    "\n",
    "pred_test = model.predict(X_test)\n",
    "\n",
    "print(confusion_matrix(pred_test, y_test))\n",
    "\n",
    "accuracy_score(y_test,pred_test)"
   ]
  },
  {
   "cell_type": "markdown",
   "metadata": {},
   "source": [
    "### Condensed Knn\n",
    "\n",
    "___\n",
    "\n",
    "These removes points which do not help in prediction and keeps only the points that help in building the decision boundary.\n",
    "\n",
    "> This technique takes more time in training but testing time reduces as many points are dropped."
   ]
  },
  {
   "cell_type": "code",
   "execution_count": 45,
   "metadata": {
    "ExecuteTime": {
     "end_time": "2019-10-20T11:26:38.187878Z",
     "start_time": "2019-10-20T11:25:50.878087Z"
    }
   },
   "outputs": [
    {
     "name": "stdout",
     "output_type": "stream",
     "text": [
      "(731, 13)\n"
     ]
    }
   ],
   "source": [
    "from imblearn.under_sampling import CondensedNearestNeighbour\n",
    "\n",
    "cknn = CondensedNearestNeighbour()\n",
    "\n",
    "X_res_cknn, y_res_cknn = cknn.fit_resample(X_train, y_train) \n",
    "\n",
    "print(X_res_cknn.shape)"
   ]
  },
  {
   "cell_type": "code",
   "execution_count": 46,
   "metadata": {
    "ExecuteTime": {
     "end_time": "2019-10-20T11:26:38.278592Z",
     "start_time": "2019-10-20T11:26:38.191042Z"
    },
    "scrolled": true
   },
   "outputs": [
    {
     "name": "stdout",
     "output_type": "stream",
     "text": [
      "[[874  27]\n",
      " [ 35  64]]\n"
     ]
    },
    {
     "data": {
      "text/plain": [
       "0.938"
      ]
     },
     "execution_count": 46,
     "metadata": {},
     "output_type": "execute_result"
    }
   ],
   "source": [
    "# fit the knn classifier on the condensed data\n",
    "cknn = model.fit(X_res_cknn, y_res_cknn)\n",
    "\n",
    "pred_test = model.predict(X_test)\n",
    "\n",
    "print(confusion_matrix(pred_test, y_test))\n",
    "\n",
    "accuracy_score(y_test,pred_test)"
   ]
  },
  {
   "cell_type": "markdown",
   "metadata": {},
   "source": [
    "For the given data, around 3300 points are dropped yet the accuracy has not suffered much."
   ]
  },
  {
   "cell_type": "markdown",
   "metadata": {},
   "source": [
    "## Choosing the best K using Elbow Curve\n",
    "\n",
    "___"
   ]
  },
  {
   "cell_type": "code",
   "execution_count": 47,
   "metadata": {
    "ExecuteTime": {
     "end_time": "2019-10-20T11:26:41.595480Z",
     "start_time": "2019-10-20T11:26:38.283516Z"
    }
   },
   "outputs": [
    {
     "name": "stdout",
     "output_type": "stream",
     "text": [
      "K ->  1 Error ->  0.039000000000000035\n",
      "K ->  3 Error ->  0.04700000000000004\n",
      "K ->  5 Error ->  0.051000000000000045\n",
      "K ->  7 Error ->  0.05300000000000005\n",
      "K ->  9 Error ->  0.05600000000000005\n",
      "K ->  11 Error ->  0.06000000000000005\n",
      "K ->  13 Error ->  0.061000000000000054\n"
     ]
    }
   ],
   "source": [
    "err = []\n",
    "k_val = []\n",
    "\n",
    "# try K = 1 through K = 15\n",
    "for k in range(1, 15, 2):\n",
    "    \n",
    "    knn = KNeighborsClassifier(n_neighbors = k)\n",
    "    \n",
    "    model_3, pred_train_3, pred_test_3 = model_building(knn)\n",
    "\n",
    "    e = 1 - accuracy_score(y_test, pred_test_3)\n",
    "    print('K -> ', k, 'Error -> ', e)\n",
    "    \n",
    "    err.append(e)\n",
    "    k_val.append(k)\n",
    "    "
   ]
  },
  {
   "cell_type": "code",
   "execution_count": 48,
   "metadata": {
    "ExecuteTime": {
     "end_time": "2019-10-20T11:26:41.784961Z",
     "start_time": "2019-10-20T11:26:41.601246Z"
    },
    "scrolled": true
   },
   "outputs": [
    {
     "data": {
      "text/plain": [
       "Text(0, 0.5, 'Error on test data')"
      ]
     },
     "execution_count": 48,
     "metadata": {},
     "output_type": "execute_result"
    },
    {
     "data": {
      "image/png": "[encoded data removed]",
      "text/plain": [
       "<Figure size 432x288 with 1 Axes>"
      ]
     },
     "metadata": {
      "needs_background": "light"
     },
     "output_type": "display_data"
    }
   ],
   "source": [
    "plt.plot(k_val, err)\n",
    "plt.xlabel('Value of K for KNN')\n",
    "plt.ylabel('Error on test data')"
   ]
  },
  {
   "cell_type": "markdown",
   "metadata": {},
   "source": [
    "Build Knn Model with best k value from elbow curve."
   ]
  },
  {
   "cell_type": "code",
   "execution_count": 49,
   "metadata": {
    "ExecuteTime": {
     "end_time": "2019-10-20T11:30:24.963771Z",
     "start_time": "2019-10-20T11:30:24.484218Z"
    },
    "scrolled": true
   },
   "outputs": [],
   "source": [
    "from sklearn.neighbors import KNeighborsClassifier\n",
    "\n",
    "model = KNeighborsClassifier(n_neighbors = 3)\n",
    "\n",
    "model_4, pred_train_4, pred_test_4 = model_building(knn)"
   ]
  },
  {
   "cell_type": "code",
   "execution_count": 50,
   "metadata": {
    "ExecuteTime": {
     "end_time": "2019-10-20T11:30:25.487405Z",
     "start_time": "2019-10-20T11:30:25.469249Z"
    }
   },
   "outputs": [
    {
     "name": "stdout",
     "output_type": "stream",
     "text": [
      "\n",
      "Confusion Matrix :\n",
      "[[3609    2]\n",
      " [ 242  147]]\n",
      "\n",
      "Accuracy Score : 0.939\n",
      "------------------------------------------------------------------\n",
      "\n",
      "Confusion Matrix :\n",
      "[[908   1]\n",
      " [ 60  31]]\n",
      "\n",
      "Accuracy Score : 0.939\n",
      "------------------------------------------------------------------\n"
     ]
    }
   ],
   "source": [
    "model_evaluation(y_train, pred_train_4)\n",
    "\n",
    "model_evaluation(y_test, pred_test_4)"
   ]
  },
  {
   "cell_type": "markdown",
   "metadata": {},
   "source": [
    "## Knn Classifier with Grid Search Crossvalidation \n",
    "___\n",
    "\n",
    "> Hyper-parameter tuning"
   ]
  },
  {
   "cell_type": "code",
   "execution_count": 51,
   "metadata": {
    "ExecuteTime": {
     "end_time": "2019-10-20T11:26:44.987379Z",
     "start_time": "2019-10-20T11:26:42.322738Z"
    }
   },
   "outputs": [],
   "source": [
    "params = {\"n_neighbors\": [2, 5, 9],\n",
    "          \"metric\": [\"euclidean\", \"cityblock\"]}\n",
    "\n",
    "knn_5 = KNeighborsClassifier(algorithm = \"brute\", weights = \"distance\")\n",
    "\n",
    "model_cv, model_5, pred_train_5, pred_test_5 = model_building(knn_5, params, 10)"
   ]
  },
  {
   "cell_type": "code",
   "execution_count": 52,
   "metadata": {
    "ExecuteTime": {
     "end_time": "2019-10-20T11:26:44.993475Z",
     "start_time": "2019-10-20T11:26:44.989349Z"
    }
   },
   "outputs": [
    {
     "data": {
      "text/plain": [
       "{'metric': 'cityblock', 'n_neighbors': 2}"
      ]
     },
     "execution_count": 52,
     "metadata": {},
     "output_type": "execute_result"
    }
   ],
   "source": [
    "model_cv.best_params_"
   ]
  },
  {
   "cell_type": "code",
   "execution_count": 53,
   "metadata": {
    "ExecuteTime": {
     "end_time": "2019-10-20T11:26:45.017854Z",
     "start_time": "2019-10-20T11:26:44.998473Z"
    }
   },
   "outputs": [
    {
     "name": "stdout",
     "output_type": "stream",
     "text": [
      "\n",
      "Confusion Matrix :\n",
      "[[3611    0]\n",
      " [   0  389]]\n",
      "\n",
      "Accuracy Score : 1.0\n",
      "------------------------------------------------------------------\n",
      "\n",
      "Confusion Matrix :\n",
      "[[904   5]\n",
      " [ 32  59]]\n",
      "\n",
      "Accuracy Score : 0.963\n",
      "------------------------------------------------------------------\n"
     ]
    }
   ],
   "source": [
    "\n",
    "model_evaluation(y_train, pred_train_5)\n",
    "\n",
    "model_evaluation(y_test, pred_test_5)"
   ]
  },
  {
   "cell_type": "markdown",
   "metadata": {},
   "source": [
    "___"
   ]
  },
  {
   "cell_type": "code",
   "execution_count": null,
   "metadata": {},
   "outputs": [],
   "source": []
  }
 ],
 "metadata": {
  "kernelspec": {
   "display_name": "Python 3",
   "language": "python",
   "name": "python3"
  },
  "language_info": {
   "codemirror_mode": {
    "name": "ipython",
    "version": 3
   },
   "file_extension": ".py",
   "mimetype": "text/x-python",
   "name": "python",
   "nbconvert_exporter": "python",
   "pygments_lexer": "ipython3",
   "version": "3.7.6"
  }
 },
 "nbformat": 4,
 "nbformat_minor": 4
}
